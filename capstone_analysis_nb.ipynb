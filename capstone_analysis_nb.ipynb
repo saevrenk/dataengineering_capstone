{
 "cells": [
  {
   "cell_type": "code",
   "execution_count": 1,
   "metadata": {},
   "outputs": [],
   "source": [
    "import pyspark\n",
    "from pyspark.sql import SparkSession\n",
    "import mysql.connector\n",
    "import re"
   ]
  },
  {
   "cell_type": "code",
   "execution_count": 2,
   "metadata": {},
   "outputs": [],
   "source": [
    "from pyspark.sql.functions import regexp_replace"
   ]
  },
  {
   "cell_type": "code",
   "execution_count": 3,
   "metadata": {},
   "outputs": [
    {
     "name": "stdout",
     "output_type": "stream",
     "text": [
      "23/02/21 09:35:08 WARN Utils: Your hostname, Sules-MacBook-Pro.local resolves to a loopback address: 127.0.0.1; using 192.168.0.17 instead (on interface en0)\n",
      "23/02/21 09:35:08 WARN Utils: Set SPARK_LOCAL_IP if you need to bind to another address\n",
      "23/02/21 09:35:08 WARN NativeCodeLoader: Unable to load native-hadoop library for your platform... using builtin-java classes where applicable\n"
     ]
    },
    {
     "name": "stderr",
     "output_type": "stream",
     "text": [
      "Setting default log level to \"WARN\".\n",
      "To adjust logging level use sc.setLogLevel(newLevel). For SparkR, use setLogLevel(newLevel).\n"
     ]
    }
   ],
   "source": [
    "spark = SparkSession\\\n",
    "    .builder\\\n",
    "    .appName(\"capstone_analysis\")\\\n",
    "    .config(\"spark.jars\",\"/opt/homebrew/Cellar/apache-spark/3.3.1/libexec/jars/mysql-connector-j-8.0.32.jar\")\\\n",
    "    .getOrCreate()"
   ]
  },
  {
   "cell_type": "markdown",
   "metadata": {},
   "source": [
    "# read the tables\n",
    "table_names = {'credit_transformed':'CDW_SAPP_CREDIT_CARD',\n",
    "               'branch_transformed':'CDW_SAPP_BRANCH',\n",
    "               'customer_transformed':'CDW_SAPP_CUSTOMER',\n",
    "               'loan_transformed':'CDW_SAPP_loan_application'}"
   ]
  },
  {
   "cell_type": "code",
   "execution_count": 4,
   "metadata": {},
   "outputs": [
    {
     "name": "stdout",
     "output_type": "stream",
     "text": [
      "+----------------+--------+---------+-----------+----------------+-----------------+--------------+\n",
      "|      CUST_CC_NO|  TIMEID| CUST_SSN|BRANCH_CODE|TRANSACTION_TYPE|TRANSACTION_VALUE|TRANSACTION_ID|\n",
      "+----------------+--------+---------+-----------+----------------+-----------------+--------------+\n",
      "|4210653349028689|20180214|123459988|        114|       Education|             78.9|             1|\n",
      "|4210653312478046|20180813|123455692|        156|         Grocery|            91.08|         22562|\n",
      "|4210653342242023|20180315|123451310|        180|           Bills|            77.79|         45069|\n",
      "+----------------+--------+---------+-----------+----------------+-----------------+--------------+\n",
      "only showing top 3 rows\n",
      "\n"
     ]
    }
   ],
   "source": [
    "# read tables\n",
    "\n",
    "credit = spark.read \\\n",
    "    .jdbc(\"jdbc:mysql://localhost:3306/creditcard_capstone\",\"CDW_SAPP_CREDIT_CARD\", \\\n",
    "          properties={\"user\": \"root\", \"driver\":\"com.mysql.cj.jdbc.Driver\"})\n",
    "credit.createTempView(\"credit_tb\")\n",
    "credit.show(3)"
   ]
  },
  {
   "cell_type": "code",
   "execution_count": null,
   "metadata": {},
   "outputs": [],
   "source": []
  },
  {
   "cell_type": "code",
   "execution_count": 5,
   "metadata": {},
   "outputs": [
    {
     "name": "stdout",
     "output_type": "stream",
     "text": [
      "+-----------+------------+-----------------+-----------------+------------+----------+-------------+-------------------+\n",
      "|BRANCH_CODE| BRANCH_NAME|    BRANCH_STREET|      BRANCH_CITY|BRANCH_STATE|BRANCH_ZIP| BRANCH_PHONE|       LAST_UPDATED|\n",
      "+-----------+------------+-----------------+-----------------+------------+----------+-------------+-------------------+\n",
      "|          1|Example Bank|     Bridle Court|        Lakeville|          MN|     55044|(123)456-5276|2018-04-18 16:51:47|\n",
      "|          2|Example Bank|Washington Street|          Huntley|          IL|     60142|(123)461-8993|2018-04-18 16:51:47|\n",
      "|          3|Example Bank|    Warren Street|SouthRichmondHill|          NY|     11419|(123)498-5926|2018-04-18 16:51:47|\n",
      "+-----------+------------+-----------------+-----------------+------------+----------+-------------+-------------------+\n",
      "only showing top 3 rows\n",
      "\n"
     ]
    }
   ],
   "source": [
    "branch = spark.read \\\n",
    "    .jdbc(\"jdbc:mysql://localhost:3306/creditcard_capstone\",\"CDW_SAPP_BRANCH\", \\\n",
    "          properties={\"user\": \"root\", \"driver\":\"com.mysql.cj.jdbc.Driver\"})\n",
    "branch.createTempView(\"branch_tb\")\n",
    "branch.show(3)"
   ]
  },
  {
   "cell_type": "code",
   "execution_count": 6,
   "metadata": {},
   "outputs": [
    {
     "name": "stdout",
     "output_type": "stream",
     "text": [
      "+---------+----------+-----------+---------+----------------+--------------------+------------+----------+-------------+--------+-------------+-------------------+-------------------+\n",
      "|      SSN|FIRST_NAME|MIDDLE_NAME|LAST_NAME|  CREDIT_CARD_NO| FULL_STREET_ADDRESS|   CUST_CITY|CUST_STATE| CUST_COUNTRY|CUST_ZIP|   CUST_PHONE|         CUST_EMAIL|       LAST_UPDATED|\n",
      "+---------+----------+-----------+---------+----------------+--------------------+------------+----------+-------------+--------+-------------+-------------------+-------------------+\n",
      "|123456100|      Alec|         wm|   Hooper|4210653310061055|Main Street North...|     Natchez|        MS|United States|   39120|(111)111-1111|AHooper@example.com|2018-04-21 12:49:02|\n",
      "|123453023|      Etta|    brendan|   Holman|4210653310102868|  Redwood Drive, 829|Wethersfield|        CT|United States|    6109|(111)123-8933|EHolman@example.com|2018-04-21 12:49:02|\n",
      "|123454487|    Wilber|   ezequiel|   Dunham|4210653310116272|12th Street East,...|     Huntley|        IL|United States|   60142|(111)124-3018|WDunham@example.com|2018-04-21 12:49:02|\n",
      "+---------+----------+-----------+---------+----------------+--------------------+------------+----------+-------------+--------+-------------+-------------------+-------------------+\n",
      "only showing top 3 rows\n",
      "\n"
     ]
    }
   ],
   "source": [
    "customer = spark.read \\\n",
    "    .jdbc(\"jdbc:mysql://localhost:3306/creditcard_capstone\",\"CDW_SAPP_CUSTOMER\", \\\n",
    "          properties={\"user\": \"root\", \"driver\":\"com.mysql.cj.jdbc.Driver\"})\n",
    "customer.createTempView(\"customer_tb\")\n",
    "customer.show(3)"
   ]
  },
  {
   "cell_type": "markdown",
   "metadata": {},
   "source": []
  },
  {
   "cell_type": "code",
   "execution_count": 18,
   "metadata": {},
   "outputs": [
    {
     "name": "stdout",
     "output_type": "stream",
     "text": [
      "root\n",
      " |-- SSN: integer (nullable = true)\n",
      " |-- FIRST_NAME: string (nullable = true)\n",
      " |-- MIDDLE_NAME: string (nullable = true)\n",
      " |-- LAST_NAME: string (nullable = true)\n",
      " |-- CREDIT_CARD_NO: string (nullable = true)\n",
      " |-- FULL_STREET_ADDRESS: string (nullable = true)\n",
      " |-- CUST_CITY: string (nullable = true)\n",
      " |-- CUST_STATE: string (nullable = true)\n",
      " |-- CUST_COUNTRY: string (nullable = true)\n",
      " |-- CUST_ZIP: integer (nullable = true)\n",
      " |-- CUST_PHONE: string (nullable = true)\n",
      " |-- CUST_EMAIL: string (nullable = true)\n",
      " |-- LAST_UPDATED: timestamp (nullable = true)\n",
      "\n"
     ]
    }
   ],
   "source": [
    "customer.printSchema()"
   ]
  },
  {
   "attachments": {},
   "cell_type": "markdown",
   "metadata": {},
   "source": [
    "### REQ-2.1: Transaction Details \n",
    "1)    Used to display the transactions made by customers living in a given zip code for a given month and year. Order by day in descending order.\n",
    "2)    Used to display the number and total values of transactions for a given type.\n",
    "3)    Used to display the number and total values of transactions for branches in a given state."
   ]
  },
  {
   "cell_type": "code",
   "execution_count": 36,
   "metadata": {},
   "outputs": [
    {
     "data": {
      "text/plain": [
       "'201802'"
      ]
     },
     "execution_count": 36,
     "metadata": {},
     "output_type": "execute_result"
    }
   ],
   "source": [
    "# get inputs (write input function with argparse)\n",
    "zipcode = 39120\n",
    "month = str(2)\n",
    "year = str(2018)\n",
    "date_string = year+month.zfill(2)\n",
    "date_string"
   ]
  },
  {
   "cell_type": "code",
   "execution_count": 54,
   "metadata": {},
   "outputs": [
    {
     "name": "stdout",
     "output_type": "stream",
     "text": [
      "+----------------+-----------------+--------------+--------+--------+\n",
      "|TRANSACTION_TYPE|TRANSACTION_VALUE|TRANSACTION_ID|  TIMEID|CUST_ZIP|\n",
      "+----------------+-----------------+--------------+--------+--------+\n",
      "|             Gas|            89.75|         22989|20180201|   39120|\n",
      "|            Test|            55.19|          2211|20180201|   39120|\n",
      "|             Gas|            40.91|          3530|20180202|   39120|\n",
      "|       Education|            28.96|         15206|20180203|   39120|\n",
      "|            Test|            38.85|          3548|20180204|   39120|\n",
      "|      Healthcare|             38.4|          3549|20180205|   39120|\n",
      "|       Education|            58.35|         12643|20180206|   39120|\n",
      "|      Healthcare|            25.24|          2196|20180206|   39120|\n",
      "|       Education|            17.88|          2216|20180207|   39120|\n",
      "|      Healthcare|            46.21|         20550|20180208|   39120|\n",
      "|           Bills|            22.17|         15267|20180209|   39120|\n",
      "|            Test|            100.5|         15177|20180210|   39120|\n",
      "|   Entertainment|            16.44|          2204|20180210|   39120|\n",
      "|       Education|            90.37|         12641|20180211|   39120|\n",
      "|       Education|            82.18|         23004|20180211|   39120|\n",
      "|            Test|            90.95|         15213|20180212|   39120|\n",
      "|           Bills|            53.87|         12621|20180214|   39120|\n",
      "|           Bills|            74.63|         23036|20180214|   39120|\n",
      "|           Bills|            46.14|         22993|20180215|   39120|\n",
      "|         Grocery|             6.72|         12665|20180217|   39120|\n",
      "+----------------+-----------------+--------------+--------+--------+\n",
      "only showing top 20 rows\n",
      "\n"
     ]
    }
   ],
   "source": [
    "q = \"SELECT credit_tb.TRANSACTION_TYPE, \"\\\n",
    "    \"credit_tb.TRANSACTION_VALUE, \"\\\n",
    "    \"credit_tb.TRANSACTION_ID, \"\\\n",
    "    \"credit_tb.TIMEID, \"\\\n",
    "    \"customer_tb.CUST_ZIP \"\\\n",
    "    \"FROM credit_tb \" \\\n",
    "    \"JOIN customer_tb \" \\\n",
    "    \"ON credit_tb.CUST_SSN = customer_tb.SSN \"\\\n",
    "    f\"WHERE customer_tb.CUST_ZIP = {zipcode} \"\\\n",
    "    f\"AND credit_tb.TIMEID LIKE '{date_string}%' \"\\\n",
    "    \"ORDER BY TIMEID ASC;\"\n",
    "\n",
    "spark.sql(q).show()"
   ]
  },
  {
   "cell_type": "code",
   "execution_count": 55,
   "metadata": {},
   "outputs": [
    {
     "name": "stdout",
     "output_type": "stream",
     "text": [
      "+----------------+\n",
      "|TRANSACTION_TYPE|\n",
      "+----------------+\n",
      "|       Education|\n",
      "|   Entertainment|\n",
      "|      Healthcare|\n",
      "|         Grocery|\n",
      "|            Test|\n",
      "|             Gas|\n",
      "|           Bills|\n",
      "+----------------+\n",
      "\n"
     ]
    }
   ],
   "source": [
    "#2. given transaction types:\n",
    "spark.sql(\"SELECT DISTINCT(TRANSACTION_TYPE) FROM credit_tb;\").show()"
   ]
  },
  {
   "cell_type": "code",
   "execution_count": 60,
   "metadata": {},
   "outputs": [
    {
     "name": "stdout",
     "output_type": "stream",
     "text": [
      "+----------------+----------------------+\n",
      "|TRANSACTION_TYPE|sum(TRANSACTION_VALUE)|\n",
      "+----------------+----------------------+\n",
      "|       Education|    337980.07000000146|\n",
      "+----------------+----------------------+\n",
      "\n"
     ]
    }
   ],
   "source": [
    "trans_type = \"Education\"\n",
    "spark.sql(f\"SELECT TRANSACTION_TYPE, SUM(TRANSACTION_VALUE) FROM credit_tb GROUP BY TRANSACTION_TYPE HAVING TRANSACTION_TYPE = '{trans_type}';\").show()"
   ]
  },
  {
   "cell_type": "code",
   "execution_count": 62,
   "metadata": {},
   "outputs": [
    {
     "name": "stdout",
     "output_type": "stream",
     "text": [
      "+------------+\n",
      "|BRANCH_STATE|\n",
      "+------------+\n",
      "|          SC|\n",
      "|          MN|\n",
      "|          NJ|\n",
      "|          VA|\n",
      "|          KY|\n",
      "|          MI|\n",
      "|          WI|\n",
      "|          CA|\n",
      "|          CT|\n",
      "|          MT|\n",
      "|          NC|\n",
      "|          MD|\n",
      "|          IL|\n",
      "|          WA|\n",
      "|          MS|\n",
      "|          AL|\n",
      "|          IN|\n",
      "|          OH|\n",
      "|          IA|\n",
      "|          PA|\n",
      "+------------+\n",
      "only showing top 20 rows\n",
      "\n"
     ]
    }
   ],
   "source": [
    "spark.sql(\"SELECT DISTINCT(BRANCH_STATE) FROM branch_tb;\").show()\n"
   ]
  },
  {
   "cell_type": "code",
   "execution_count": 69,
   "metadata": {},
   "outputs": [
    {
     "name": "stdout",
     "output_type": "stream",
     "text": [
      "+------------+---------------------+----------------------+\n",
      "|BRANCH_STATE|count(TRANSACTION_ID)|sum(TRANSACTION_VALUE)|\n",
      "+------------+---------------------+----------------------+\n",
      "|          WI|                 1677|     85899.84000000005|\n",
      "+------------+---------------------+----------------------+\n",
      "\n"
     ]
    }
   ],
   "source": [
    "state = 'WI'\n",
    "q = \"SELECT branch_tb.BRANCH_STATE, \"\\\n",
    "    \"COUNT(TRANSACTION_ID), \"\\\n",
    "    \"SUM(TRANSACTION_VALUE) \"\\\n",
    "    \"from credit_tb JOIN branch_tb ON credit_tb.BRANCH_CODE = branch_tb.BRANCH_CODE \"\\\n",
    "    f\"WHERE branch_tb.BRANCH_STATE = '{state}'\"\\\n",
    "    \"GROUP BY branch_tb.BRANCH_STATE;\"\n",
    "spark.sql(q).show()"
   ]
  },
  {
   "cell_type": "markdown",
   "metadata": {},
   "source": []
  },
  {
   "attachments": {},
   "cell_type": "markdown",
   "metadata": {},
   "source": [
    "### REQ-2.2: Customer Details Module\n",
    "1) Used to check the existing account details of a customer. (hide part of ssn)\n",
    "2) Used to modify the existing account details of a customer.\n",
    "3) Used to generate a monthly bill for a credit card number for a given month and year.\n",
    "4) Used to display the transactions made by a customer between two dates. Order by year, month, and day in descending order.\n"
   ]
  },
  {
   "cell_type": "markdown",
   "metadata": {},
   "source": []
  },
  {
   "cell_type": "code",
   "execution_count": 84,
   "metadata": {},
   "outputs": [
    {
     "name": "stdout",
     "output_type": "stream",
     "text": [
      "Alec wm Hooper\n",
      "+----------+----------+-----------+---------+----------------+--------------------+---------+----------+-------------+--------+-------------+-------------------+-------------------+\n",
      "|SSN_masked|FIRST_NAME|MIDDLE_NAME|LAST_NAME|  CREDIT_CARD_NO| FULL_STREET_ADDRESS|CUST_CITY|CUST_STATE| CUST_COUNTRY|CUST_ZIP|   CUST_PHONE|         CUST_EMAIL|       LAST_UPDATED|\n",
      "+----------+----------+-----------+---------+----------------+--------------------+---------+----------+-------------+--------+-------------+-------------------+-------------------+\n",
      "| *****6100|      Alec|         wm|   Hooper|4210653310061055|Main Street North...|  Natchez|        MS|United States|   39120|(111)123-7818|AHooper@example.com|2018-04-21 12:49:02|\n",
      "+----------+----------+-----------+---------+----------------+--------------------+---------+----------+-------------+--------+-------------+-------------------+-------------------+\n",
      "\n"
     ]
    }
   ],
   "source": [
    "cut_name = \"Alec wm Hooper\\n\".strip(\"\\n\").split()\n",
    "first = cut_name[0].title()\n",
    "middle = cut_name[1].lower()\n",
    "last = cut_name[2].title()\n",
    "print(first, middle, last)\n",
    "q = f\"SELECT * FROM customer_tb WHERE FIRST_NAME='{first}' AND MIDDLE_NAME='{middle}' AND LAST_NAME='{last}'\" \n",
    "dfnew  = spark.sql(q)\n",
    "dfnew = dfnew.withColumn(\"SSN_masked\", regexp_replace(dfnew['SSN'],r\"(\\d{5})(\\d{4})\", \"*****$2\"))\n",
    "dfnew.select('SSN_masked','FIRST_NAME', 'MIDDLE_NAME', 'LAST_NAME', \n",
    "                       'CREDIT_CARD_NO', 'FULL_STREET_ADDRESS', 'CUST_CITY',\n",
    "                        'CUST_STATE', 'CUST_COUNTRY', 'CUST_ZIP', 'CUST_PHONE', \n",
    "                        'CUST_EMAIL', 'LAST_UPDATED').show()"
   ]
  },
  {
   "cell_type": "code",
   "execution_count": 143,
   "metadata": {},
   "outputs": [
    {
     "ename": "Py4JJavaError",
     "evalue": "An error occurred while calling o27.sql.\n: java.lang.UnsupportedOperationException: UPDATE TABLE is not supported temporarily.\n\tat org.apache.spark.sql.errors.QueryExecutionErrors$.ddlUnsupportedTemporarilyError(QueryExecutionErrors.scala:909)\n\tat org.apache.spark.sql.execution.SparkStrategies$BasicOperators$.apply(SparkStrategies.scala:819)\n\tat org.apache.spark.sql.catalyst.planning.QueryPlanner.$anonfun$plan$1(QueryPlanner.scala:63)\n\tat scala.collection.Iterator$$anon$11.nextCur(Iterator.scala:486)\n\tat scala.collection.Iterator$$anon$11.hasNext(Iterator.scala:492)\n\tat scala.collection.Iterator$$anon$11.hasNext(Iterator.scala:491)\n\tat org.apache.spark.sql.catalyst.planning.QueryPlanner.plan(QueryPlanner.scala:93)\n\tat org.apache.spark.sql.execution.SparkStrategies.plan(SparkStrategies.scala:69)\n\tat org.apache.spark.sql.catalyst.planning.QueryPlanner.$anonfun$plan$3(QueryPlanner.scala:78)\n\tat scala.collection.TraversableOnce$folder$1.apply(TraversableOnce.scala:196)\n\tat scala.collection.TraversableOnce$folder$1.apply(TraversableOnce.scala:194)\n\tat scala.collection.Iterator.foreach(Iterator.scala:943)\n\tat scala.collection.Iterator.foreach$(Iterator.scala:943)\n\tat scala.collection.AbstractIterator.foreach(Iterator.scala:1431)\n\tat scala.collection.TraversableOnce.foldLeft(TraversableOnce.scala:199)\n\tat scala.collection.TraversableOnce.foldLeft$(TraversableOnce.scala:192)\n\tat scala.collection.AbstractIterator.foldLeft(Iterator.scala:1431)\n\tat org.apache.spark.sql.catalyst.planning.QueryPlanner.$anonfun$plan$2(QueryPlanner.scala:75)\n\tat scala.collection.Iterator$$anon$11.nextCur(Iterator.scala:486)\n\tat scala.collection.Iterator$$anon$11.hasNext(Iterator.scala:492)\n\tat org.apache.spark.sql.catalyst.planning.QueryPlanner.plan(QueryPlanner.scala:93)\n\tat org.apache.spark.sql.execution.SparkStrategies.plan(SparkStrategies.scala:69)\n\tat org.apache.spark.sql.execution.QueryExecution$.createSparkPlan(QueryExecution.scala:459)\n\tat org.apache.spark.sql.execution.QueryExecution.$anonfun$sparkPlan$1(QueryExecution.scala:145)\n\tat org.apache.spark.sql.catalyst.QueryPlanningTracker.measurePhase(QueryPlanningTracker.scala:111)\n\tat org.apache.spark.sql.execution.QueryExecution.$anonfun$executePhase$2(QueryExecution.scala:185)\n\tat org.apache.spark.sql.execution.QueryExecution$.withInternalError(QueryExecution.scala:510)\n\tat org.apache.spark.sql.execution.QueryExecution.$anonfun$executePhase$1(QueryExecution.scala:185)\n\tat org.apache.spark.sql.SparkSession.withActive(SparkSession.scala:779)\n\tat org.apache.spark.sql.execution.QueryExecution.executePhase(QueryExecution.scala:184)\n\tat org.apache.spark.sql.execution.QueryExecution.sparkPlan$lzycompute(QueryExecution.scala:145)\n\tat org.apache.spark.sql.execution.QueryExecution.sparkPlan(QueryExecution.scala:138)\n\tat org.apache.spark.sql.execution.QueryExecution.$anonfun$executedPlan$1(QueryExecution.scala:158)\n\tat org.apache.spark.sql.catalyst.QueryPlanningTracker.measurePhase(QueryPlanningTracker.scala:111)\n\tat org.apache.spark.sql.execution.QueryExecution.$anonfun$executePhase$2(QueryExecution.scala:185)\n\tat org.apache.spark.sql.execution.QueryExecution$.withInternalError(QueryExecution.scala:510)\n\tat org.apache.spark.sql.execution.QueryExecution.$anonfun$executePhase$1(QueryExecution.scala:185)\n\tat org.apache.spark.sql.SparkSession.withActive(SparkSession.scala:779)\n\tat org.apache.spark.sql.execution.QueryExecution.executePhase(QueryExecution.scala:184)\n\tat org.apache.spark.sql.execution.QueryExecution.executedPlan$lzycompute(QueryExecution.scala:158)\n\tat org.apache.spark.sql.execution.QueryExecution.executedPlan(QueryExecution.scala:151)\n\tat org.apache.spark.sql.execution.QueryExecution.simpleString(QueryExecution.scala:204)\n\tat org.apache.spark.sql.execution.QueryExecution.org$apache$spark$sql$execution$QueryExecution$$explainString(QueryExecution.scala:249)\n\tat org.apache.spark.sql.execution.QueryExecution.explainString(QueryExecution.scala:218)\n\tat org.apache.spark.sql.execution.SQLExecution$.$anonfun$withNewExecutionId$6(SQLExecution.scala:103)\n\tat org.apache.spark.sql.execution.SQLExecution$.withSQLConfPropagated(SQLExecution.scala:169)\n\tat org.apache.spark.sql.execution.SQLExecution$.$anonfun$withNewExecutionId$1(SQLExecution.scala:95)\n\tat org.apache.spark.sql.SparkSession.withActive(SparkSession.scala:779)\n\tat org.apache.spark.sql.execution.SQLExecution$.withNewExecutionId(SQLExecution.scala:64)\n\tat org.apache.spark.sql.execution.QueryExecution$$anonfun$eagerlyExecuteCommands$1.applyOrElse(QueryExecution.scala:98)\n\tat org.apache.spark.sql.execution.QueryExecution$$anonfun$eagerlyExecuteCommands$1.applyOrElse(QueryExecution.scala:94)\n\tat org.apache.spark.sql.catalyst.trees.TreeNode.$anonfun$transformDownWithPruning$1(TreeNode.scala:584)\n\tat org.apache.spark.sql.catalyst.trees.CurrentOrigin$.withOrigin(TreeNode.scala:176)\n\tat org.apache.spark.sql.catalyst.trees.TreeNode.transformDownWithPruning(TreeNode.scala:584)\n\tat org.apache.spark.sql.catalyst.plans.logical.LogicalPlan.org$apache$spark$sql$catalyst$plans$logical$AnalysisHelper$$super$transformDownWithPruning(LogicalPlan.scala:30)\n\tat org.apache.spark.sql.catalyst.plans.logical.AnalysisHelper.transformDownWithPruning(AnalysisHelper.scala:267)\n\tat org.apache.spark.sql.catalyst.plans.logical.AnalysisHelper.transformDownWithPruning$(AnalysisHelper.scala:263)\n\tat org.apache.spark.sql.catalyst.plans.logical.LogicalPlan.transformDownWithPruning(LogicalPlan.scala:30)\n\tat org.apache.spark.sql.catalyst.plans.logical.LogicalPlan.transformDownWithPruning(LogicalPlan.scala:30)\n\tat org.apache.spark.sql.catalyst.trees.TreeNode.transformDown(TreeNode.scala:560)\n\tat org.apache.spark.sql.execution.QueryExecution.eagerlyExecuteCommands(QueryExecution.scala:94)\n\tat org.apache.spark.sql.execution.QueryExecution.commandExecuted$lzycompute(QueryExecution.scala:81)\n\tat org.apache.spark.sql.execution.QueryExecution.commandExecuted(QueryExecution.scala:79)\n\tat org.apache.spark.sql.Dataset.<init>(Dataset.scala:220)\n\tat org.apache.spark.sql.Dataset$.$anonfun$ofRows$2(Dataset.scala:100)\n\tat org.apache.spark.sql.SparkSession.withActive(SparkSession.scala:779)\n\tat org.apache.spark.sql.Dataset$.ofRows(Dataset.scala:97)\n\tat org.apache.spark.sql.SparkSession.$anonfun$sql$1(SparkSession.scala:622)\n\tat org.apache.spark.sql.SparkSession.withActive(SparkSession.scala:779)\n\tat org.apache.spark.sql.SparkSession.sql(SparkSession.scala:617)\n\tat java.base/jdk.internal.reflect.DirectMethodHandleAccessor.invoke(DirectMethodHandleAccessor.java:104)\n\tat java.base/java.lang.reflect.Method.invoke(Method.java:578)\n\tat py4j.reflection.MethodInvoker.invoke(MethodInvoker.java:244)\n\tat py4j.reflection.ReflectionEngine.invoke(ReflectionEngine.java:357)\n\tat py4j.Gateway.invoke(Gateway.java:282)\n\tat py4j.commands.AbstractCommand.invokeMethod(AbstractCommand.java:132)\n\tat py4j.commands.CallCommand.execute(CallCommand.java:79)\n\tat py4j.ClientServerConnection.waitForCommands(ClientServerConnection.java:182)\n\tat py4j.ClientServerConnection.run(ClientServerConnection.java:106)\n\tat java.base/java.lang.Thread.run(Thread.java:1589)\n",
     "output_type": "error",
     "traceback": [
      "\u001b[0;31m---------------------------------------------------------------------------\u001b[0m",
      "\u001b[0;31mPy4JJavaError\u001b[0m                             Traceback (most recent call last)",
      "Cell \u001b[0;32mIn[143], line 1\u001b[0m\n\u001b[0;32m----> 1\u001b[0m spark\u001b[39m.\u001b[39;49msql(\u001b[39m\"\u001b[39;49m\u001b[39mUPDATE customer_tb  SET LAST_UPDATED = CURRENT_TIMESTAMP() WHERE FIRST_NAME=\u001b[39;49m\u001b[39m'\u001b[39;49m\u001b[39mAlec\u001b[39;49m\u001b[39m'\u001b[39;49m\u001b[39m\"\u001b[39;49m)\n",
      "File \u001b[0;32m~/vs_projects/capstone/env/lib/python3.9/site-packages/pyspark/sql/session.py:1034\u001b[0m, in \u001b[0;36mSparkSession.sql\u001b[0;34m(self, sqlQuery, **kwargs)\u001b[0m\n\u001b[1;32m   1032\u001b[0m     sqlQuery \u001b[39m=\u001b[39m formatter\u001b[39m.\u001b[39mformat(sqlQuery, \u001b[39m*\u001b[39m\u001b[39m*\u001b[39mkwargs)\n\u001b[1;32m   1033\u001b[0m \u001b[39mtry\u001b[39;00m:\n\u001b[0;32m-> 1034\u001b[0m     \u001b[39mreturn\u001b[39;00m DataFrame(\u001b[39mself\u001b[39;49m\u001b[39m.\u001b[39;49m_jsparkSession\u001b[39m.\u001b[39;49msql(sqlQuery), \u001b[39mself\u001b[39m)\n\u001b[1;32m   1035\u001b[0m \u001b[39mfinally\u001b[39;00m:\n\u001b[1;32m   1036\u001b[0m     \u001b[39mif\u001b[39;00m \u001b[39mlen\u001b[39m(kwargs) \u001b[39m>\u001b[39m \u001b[39m0\u001b[39m:\n",
      "File \u001b[0;32m~/vs_projects/capstone/env/lib/python3.9/site-packages/py4j/java_gateway.py:1321\u001b[0m, in \u001b[0;36mJavaMember.__call__\u001b[0;34m(self, *args)\u001b[0m\n\u001b[1;32m   1315\u001b[0m command \u001b[39m=\u001b[39m proto\u001b[39m.\u001b[39mCALL_COMMAND_NAME \u001b[39m+\u001b[39m\\\n\u001b[1;32m   1316\u001b[0m     \u001b[39mself\u001b[39m\u001b[39m.\u001b[39mcommand_header \u001b[39m+\u001b[39m\\\n\u001b[1;32m   1317\u001b[0m     args_command \u001b[39m+\u001b[39m\\\n\u001b[1;32m   1318\u001b[0m     proto\u001b[39m.\u001b[39mEND_COMMAND_PART\n\u001b[1;32m   1320\u001b[0m answer \u001b[39m=\u001b[39m \u001b[39mself\u001b[39m\u001b[39m.\u001b[39mgateway_client\u001b[39m.\u001b[39msend_command(command)\n\u001b[0;32m-> 1321\u001b[0m return_value \u001b[39m=\u001b[39m get_return_value(\n\u001b[1;32m   1322\u001b[0m     answer, \u001b[39mself\u001b[39;49m\u001b[39m.\u001b[39;49mgateway_client, \u001b[39mself\u001b[39;49m\u001b[39m.\u001b[39;49mtarget_id, \u001b[39mself\u001b[39;49m\u001b[39m.\u001b[39;49mname)\n\u001b[1;32m   1324\u001b[0m \u001b[39mfor\u001b[39;00m temp_arg \u001b[39min\u001b[39;00m temp_args:\n\u001b[1;32m   1325\u001b[0m     temp_arg\u001b[39m.\u001b[39m_detach()\n",
      "File \u001b[0;32m~/vs_projects/capstone/env/lib/python3.9/site-packages/pyspark/sql/utils.py:190\u001b[0m, in \u001b[0;36mcapture_sql_exception.<locals>.deco\u001b[0;34m(*a, **kw)\u001b[0m\n\u001b[1;32m    188\u001b[0m \u001b[39mdef\u001b[39;00m \u001b[39mdeco\u001b[39m(\u001b[39m*\u001b[39ma: Any, \u001b[39m*\u001b[39m\u001b[39m*\u001b[39mkw: Any) \u001b[39m-\u001b[39m\u001b[39m>\u001b[39m Any:\n\u001b[1;32m    189\u001b[0m     \u001b[39mtry\u001b[39;00m:\n\u001b[0;32m--> 190\u001b[0m         \u001b[39mreturn\u001b[39;00m f(\u001b[39m*\u001b[39;49ma, \u001b[39m*\u001b[39;49m\u001b[39m*\u001b[39;49mkw)\n\u001b[1;32m    191\u001b[0m     \u001b[39mexcept\u001b[39;00m Py4JJavaError \u001b[39mas\u001b[39;00m e:\n\u001b[1;32m    192\u001b[0m         converted \u001b[39m=\u001b[39m convert_exception(e\u001b[39m.\u001b[39mjava_exception)\n",
      "File \u001b[0;32m~/vs_projects/capstone/env/lib/python3.9/site-packages/py4j/protocol.py:326\u001b[0m, in \u001b[0;36mget_return_value\u001b[0;34m(answer, gateway_client, target_id, name)\u001b[0m\n\u001b[1;32m    324\u001b[0m value \u001b[39m=\u001b[39m OUTPUT_CONVERTER[\u001b[39mtype\u001b[39m](answer[\u001b[39m2\u001b[39m:], gateway_client)\n\u001b[1;32m    325\u001b[0m \u001b[39mif\u001b[39;00m answer[\u001b[39m1\u001b[39m] \u001b[39m==\u001b[39m REFERENCE_TYPE:\n\u001b[0;32m--> 326\u001b[0m     \u001b[39mraise\u001b[39;00m Py4JJavaError(\n\u001b[1;32m    327\u001b[0m         \u001b[39m\"\u001b[39m\u001b[39mAn error occurred while calling \u001b[39m\u001b[39m{0}\u001b[39;00m\u001b[39m{1}\u001b[39;00m\u001b[39m{2}\u001b[39;00m\u001b[39m.\u001b[39m\u001b[39m\\n\u001b[39;00m\u001b[39m\"\u001b[39m\u001b[39m.\u001b[39m\n\u001b[1;32m    328\u001b[0m         \u001b[39mformat\u001b[39m(target_id, \u001b[39m\"\u001b[39m\u001b[39m.\u001b[39m\u001b[39m\"\u001b[39m, name), value)\n\u001b[1;32m    329\u001b[0m \u001b[39melse\u001b[39;00m:\n\u001b[1;32m    330\u001b[0m     \u001b[39mraise\u001b[39;00m Py4JError(\n\u001b[1;32m    331\u001b[0m         \u001b[39m\"\u001b[39m\u001b[39mAn error occurred while calling \u001b[39m\u001b[39m{0}\u001b[39;00m\u001b[39m{1}\u001b[39;00m\u001b[39m{2}\u001b[39;00m\u001b[39m. Trace:\u001b[39m\u001b[39m\\n\u001b[39;00m\u001b[39m{3}\u001b[39;00m\u001b[39m\\n\u001b[39;00m\u001b[39m\"\u001b[39m\u001b[39m.\u001b[39m\n\u001b[1;32m    332\u001b[0m         \u001b[39mformat\u001b[39m(target_id, \u001b[39m\"\u001b[39m\u001b[39m.\u001b[39m\u001b[39m\"\u001b[39m, name, value))\n",
      "\u001b[0;31mPy4JJavaError\u001b[0m: An error occurred while calling o27.sql.\n: java.lang.UnsupportedOperationException: UPDATE TABLE is not supported temporarily.\n\tat org.apache.spark.sql.errors.QueryExecutionErrors$.ddlUnsupportedTemporarilyError(QueryExecutionErrors.scala:909)\n\tat org.apache.spark.sql.execution.SparkStrategies$BasicOperators$.apply(SparkStrategies.scala:819)\n\tat org.apache.spark.sql.catalyst.planning.QueryPlanner.$anonfun$plan$1(QueryPlanner.scala:63)\n\tat scala.collection.Iterator$$anon$11.nextCur(Iterator.scala:486)\n\tat scala.collection.Iterator$$anon$11.hasNext(Iterator.scala:492)\n\tat scala.collection.Iterator$$anon$11.hasNext(Iterator.scala:491)\n\tat org.apache.spark.sql.catalyst.planning.QueryPlanner.plan(QueryPlanner.scala:93)\n\tat org.apache.spark.sql.execution.SparkStrategies.plan(SparkStrategies.scala:69)\n\tat org.apache.spark.sql.catalyst.planning.QueryPlanner.$anonfun$plan$3(QueryPlanner.scala:78)\n\tat scala.collection.TraversableOnce$folder$1.apply(TraversableOnce.scala:196)\n\tat scala.collection.TraversableOnce$folder$1.apply(TraversableOnce.scala:194)\n\tat scala.collection.Iterator.foreach(Iterator.scala:943)\n\tat scala.collection.Iterator.foreach$(Iterator.scala:943)\n\tat scala.collection.AbstractIterator.foreach(Iterator.scala:1431)\n\tat scala.collection.TraversableOnce.foldLeft(TraversableOnce.scala:199)\n\tat scala.collection.TraversableOnce.foldLeft$(TraversableOnce.scala:192)\n\tat scala.collection.AbstractIterator.foldLeft(Iterator.scala:1431)\n\tat org.apache.spark.sql.catalyst.planning.QueryPlanner.$anonfun$plan$2(QueryPlanner.scala:75)\n\tat scala.collection.Iterator$$anon$11.nextCur(Iterator.scala:486)\n\tat scala.collection.Iterator$$anon$11.hasNext(Iterator.scala:492)\n\tat org.apache.spark.sql.catalyst.planning.QueryPlanner.plan(QueryPlanner.scala:93)\n\tat org.apache.spark.sql.execution.SparkStrategies.plan(SparkStrategies.scala:69)\n\tat org.apache.spark.sql.execution.QueryExecution$.createSparkPlan(QueryExecution.scala:459)\n\tat org.apache.spark.sql.execution.QueryExecution.$anonfun$sparkPlan$1(QueryExecution.scala:145)\n\tat org.apache.spark.sql.catalyst.QueryPlanningTracker.measurePhase(QueryPlanningTracker.scala:111)\n\tat org.apache.spark.sql.execution.QueryExecution.$anonfun$executePhase$2(QueryExecution.scala:185)\n\tat org.apache.spark.sql.execution.QueryExecution$.withInternalError(QueryExecution.scala:510)\n\tat org.apache.spark.sql.execution.QueryExecution.$anonfun$executePhase$1(QueryExecution.scala:185)\n\tat org.apache.spark.sql.SparkSession.withActive(SparkSession.scala:779)\n\tat org.apache.spark.sql.execution.QueryExecution.executePhase(QueryExecution.scala:184)\n\tat org.apache.spark.sql.execution.QueryExecution.sparkPlan$lzycompute(QueryExecution.scala:145)\n\tat org.apache.spark.sql.execution.QueryExecution.sparkPlan(QueryExecution.scala:138)\n\tat org.apache.spark.sql.execution.QueryExecution.$anonfun$executedPlan$1(QueryExecution.scala:158)\n\tat org.apache.spark.sql.catalyst.QueryPlanningTracker.measurePhase(QueryPlanningTracker.scala:111)\n\tat org.apache.spark.sql.execution.QueryExecution.$anonfun$executePhase$2(QueryExecution.scala:185)\n\tat org.apache.spark.sql.execution.QueryExecution$.withInternalError(QueryExecution.scala:510)\n\tat org.apache.spark.sql.execution.QueryExecution.$anonfun$executePhase$1(QueryExecution.scala:185)\n\tat org.apache.spark.sql.SparkSession.withActive(SparkSession.scala:779)\n\tat org.apache.spark.sql.execution.QueryExecution.executePhase(QueryExecution.scala:184)\n\tat org.apache.spark.sql.execution.QueryExecution.executedPlan$lzycompute(QueryExecution.scala:158)\n\tat org.apache.spark.sql.execution.QueryExecution.executedPlan(QueryExecution.scala:151)\n\tat org.apache.spark.sql.execution.QueryExecution.simpleString(QueryExecution.scala:204)\n\tat org.apache.spark.sql.execution.QueryExecution.org$apache$spark$sql$execution$QueryExecution$$explainString(QueryExecution.scala:249)\n\tat org.apache.spark.sql.execution.QueryExecution.explainString(QueryExecution.scala:218)\n\tat org.apache.spark.sql.execution.SQLExecution$.$anonfun$withNewExecutionId$6(SQLExecution.scala:103)\n\tat org.apache.spark.sql.execution.SQLExecution$.withSQLConfPropagated(SQLExecution.scala:169)\n\tat org.apache.spark.sql.execution.SQLExecution$.$anonfun$withNewExecutionId$1(SQLExecution.scala:95)\n\tat org.apache.spark.sql.SparkSession.withActive(SparkSession.scala:779)\n\tat org.apache.spark.sql.execution.SQLExecution$.withNewExecutionId(SQLExecution.scala:64)\n\tat org.apache.spark.sql.execution.QueryExecution$$anonfun$eagerlyExecuteCommands$1.applyOrElse(QueryExecution.scala:98)\n\tat org.apache.spark.sql.execution.QueryExecution$$anonfun$eagerlyExecuteCommands$1.applyOrElse(QueryExecution.scala:94)\n\tat org.apache.spark.sql.catalyst.trees.TreeNode.$anonfun$transformDownWithPruning$1(TreeNode.scala:584)\n\tat org.apache.spark.sql.catalyst.trees.CurrentOrigin$.withOrigin(TreeNode.scala:176)\n\tat org.apache.spark.sql.catalyst.trees.TreeNode.transformDownWithPruning(TreeNode.scala:584)\n\tat org.apache.spark.sql.catalyst.plans.logical.LogicalPlan.org$apache$spark$sql$catalyst$plans$logical$AnalysisHelper$$super$transformDownWithPruning(LogicalPlan.scala:30)\n\tat org.apache.spark.sql.catalyst.plans.logical.AnalysisHelper.transformDownWithPruning(AnalysisHelper.scala:267)\n\tat org.apache.spark.sql.catalyst.plans.logical.AnalysisHelper.transformDownWithPruning$(AnalysisHelper.scala:263)\n\tat org.apache.spark.sql.catalyst.plans.logical.LogicalPlan.transformDownWithPruning(LogicalPlan.scala:30)\n\tat org.apache.spark.sql.catalyst.plans.logical.LogicalPlan.transformDownWithPruning(LogicalPlan.scala:30)\n\tat org.apache.spark.sql.catalyst.trees.TreeNode.transformDown(TreeNode.scala:560)\n\tat org.apache.spark.sql.execution.QueryExecution.eagerlyExecuteCommands(QueryExecution.scala:94)\n\tat org.apache.spark.sql.execution.QueryExecution.commandExecuted$lzycompute(QueryExecution.scala:81)\n\tat org.apache.spark.sql.execution.QueryExecution.commandExecuted(QueryExecution.scala:79)\n\tat org.apache.spark.sql.Dataset.<init>(Dataset.scala:220)\n\tat org.apache.spark.sql.Dataset$.$anonfun$ofRows$2(Dataset.scala:100)\n\tat org.apache.spark.sql.SparkSession.withActive(SparkSession.scala:779)\n\tat org.apache.spark.sql.Dataset$.ofRows(Dataset.scala:97)\n\tat org.apache.spark.sql.SparkSession.$anonfun$sql$1(SparkSession.scala:622)\n\tat org.apache.spark.sql.SparkSession.withActive(SparkSession.scala:779)\n\tat org.apache.spark.sql.SparkSession.sql(SparkSession.scala:617)\n\tat java.base/jdk.internal.reflect.DirectMethodHandleAccessor.invoke(DirectMethodHandleAccessor.java:104)\n\tat java.base/java.lang.reflect.Method.invoke(Method.java:578)\n\tat py4j.reflection.MethodInvoker.invoke(MethodInvoker.java:244)\n\tat py4j.reflection.ReflectionEngine.invoke(ReflectionEngine.java:357)\n\tat py4j.Gateway.invoke(Gateway.java:282)\n\tat py4j.commands.AbstractCommand.invokeMethod(AbstractCommand.java:132)\n\tat py4j.commands.CallCommand.execute(CallCommand.java:79)\n\tat py4j.ClientServerConnection.waitForCommands(ClientServerConnection.java:182)\n\tat py4j.ClientServerConnection.run(ClientServerConnection.java:106)\n\tat java.base/java.lang.Thread.run(Thread.java:1589)\n"
     ]
    }
   ],
   "source": [
    "# update table are not available error for the below expression (UPDATE TABLE is not supported temporarily)\n",
    "spark.sql(\"UPDATE customer_tb  SET LAST_UPDATED = CURRENT_TIMESTAMP() WHERE FIRST_NAME='Alec'\")\n"
   ]
  },
  {
   "cell_type": "code",
   "execution_count": 177,
   "metadata": {},
   "outputs": [],
   "source": [
    "# modify account details: (write out to the db, update last updated with timestamp now())\n",
    "# read new info\n",
    "# update table \n",
    "#save df to database\n",
    "# Please enter item numbers to be modified:\n",
    "\n",
    "def modify_customer_record():\n",
    "    string1=\"\"\"Please choose a number 1 to 5 to update one of the following:\n",
    "    1 |-- NAME\n",
    "    2 |-- CREDIT_CARD_NO\n",
    "    3 |-- ADRESS\n",
    "    4 |-- CUST_PHONE\n",
    "    5 |-- CUST_EMAIL\n",
    "    \"\"\"\n",
    "    choice = int(input(string1))\n",
    "    if choice not in range(1,6):\n",
    "        print('You entered a wrong choice!')\n",
    "        choice = int(input(string1))\n",
    "\n",
    "    ssn = input(\"Please enter the SSN for the record you wish to update\").strip()\n",
    "    if choice == 1:\n",
    "        new_first = input(\"Enter new first name:\").strip().title()\n",
    "        new_middle = input(\"Enter new middle name:\").strip().lower()\n",
    "        new_last = input(\"Enter new last name:\").strip().title()\n",
    "        changes = f\"UPDATE customer_tb SET FIRST_NAME = '{new_first}', \"\\\n",
    "            f\"MIDDLE_NAME = '{new_middle}', \"\\\n",
    "            f\"LAST_NAME = '{new_last}' \"    \n",
    "\n",
    "    elif choice == 2:\n",
    "        new_card = input(\"Enter 16-digit new credit card number:\").strip()\n",
    "        changes = f\"UPDATE customer_tb SET CREDIT_CARD_NO = '{new_card}'\"\n",
    "\n",
    "    elif choice == 3:\n",
    "        new_add = input(\"\"\"Enter street name, street number, \n",
    "        city, state, country, zipcode as a comma separated list\"\"\").strip().split(',')\n",
    "        changes = f\"UPDATE customer_tb SET FULL_STREET_ADRESS = '{new_add[0]}, {new_add[1]}', \"\\\n",
    "            f\"CUST_CITY = '{new_add[2]}', \"\\\n",
    "            f\"CUST_STATE = '{new_add[3]}', \"\\\n",
    "            f\"CUST_COUNTRY = '{new_add[4]}', \"\\\n",
    "            f\"ZIP_CODE = '{new_add[5]}' \"\n",
    "\n",
    "    elif choice == 4:\n",
    "        new_phone = input(\"Enter new phone as a 10 digit number (no dashes,spaces or parantheses):\").strip()\n",
    "        new_phone = re.sub(r'(\\d{3})(\\d{3})(\\d{4})',r\"(\\1)\\2-\\3\", new_phone)\n",
    "        changes = f\"UPDATE customer_tb SET CUST_PHONE = '{new_phone}' \"\n",
    "    \n",
    "    elif choice == 5:\n",
    "        new_email = input(\"Enter new email address:\").strip()\n",
    "        changes = f\"UPDATE customer_tb SET CUST_EMAIL = '{new_email}' \"\n",
    "\n",
    "    changes = changes + f\"WHERE SSN = '{ssn}';\"\n",
    "    \n",
    "    return ssn, changes"
   ]
  },
  {
   "cell_type": "code",
   "execution_count": 178,
   "metadata": {},
   "outputs": [],
   "source": [
    "ssn='123456100'\n",
    "ssn, sql_update = modify_customer_record()\n"
   ]
  },
  {
   "cell_type": "code",
   "execution_count": 179,
   "metadata": {},
   "outputs": [
    {
     "data": {
      "text/plain": [
       "\"UPDATE customer_tb SET CUST_PHONE = '(111)111-1111' WHERE SSN = '123456100';\""
      ]
     },
     "execution_count": 179,
     "metadata": {},
     "output_type": "execute_result"
    }
   ],
   "source": [
    "sql_update"
   ]
  },
  {
   "cell_type": "code",
   "execution_count": 180,
   "metadata": {},
   "outputs": [],
   "source": [
    "sql_update = \"UPDATE CDW_SAPP_CUSTOMER SET CUST_PHONE = '(111)111-1111' WHERE SSN = '123456100';\""
   ]
  },
  {
   "cell_type": "code",
   "execution_count": 181,
   "metadata": {},
   "outputs": [],
   "source": [
    "ssn, sql_update\n",
    "mydb = mysql.connector.connect(\n",
    "  host=\"localhost\",\n",
    "  user=\"root\",\n",
    "  password=\"\",\n",
    "  database=\"creditcard_capstone\"\n",
    ")"
   ]
  },
  {
   "cell_type": "code",
   "execution_count": 182,
   "metadata": {},
   "outputs": [
    {
     "name": "stdout",
     "output_type": "stream",
     "text": [
      "1 record(s) affected\n"
     ]
    }
   ],
   "source": [
    "mycursor = mydb.cursor()\n",
    "\n",
    "sql = sql_update\n",
    "\n",
    "mycursor.execute(sql)\n",
    "\n",
    "mydb.commit()\n",
    "\n",
    "print(mycursor.rowcount, \"record(s) affected\")"
   ]
  },
  {
   "cell_type": "code",
   "execution_count": 174,
   "metadata": {},
   "outputs": [
    {
     "data": {
      "text/plain": [
       "'(111)111-1111'"
      ]
     },
     "execution_count": 174,
     "metadata": {},
     "output_type": "execute_result"
    }
   ],
   "source": [
    "import re\n",
    "re.sub(r'(\\d{3})(\\d{3})(\\d{4})',r\"(\\1)\\2-\\3\", '1111111111' )"
   ]
  },
  {
   "cell_type": "code",
   "execution_count": 87,
   "metadata": {},
   "outputs": [
    {
     "name": "stdout",
     "output_type": "stream",
     "text": [
      "+----------------+--------+---------+-----------+----------------+-----------------+--------------+\n",
      "|      CUST_CC_NO|  TIMEID| CUST_SSN|BRANCH_CODE|TRANSACTION_TYPE|TRANSACTION_VALUE|TRANSACTION_ID|\n",
      "+----------------+--------+---------+-----------+----------------+-----------------+--------------+\n",
      "|4210653349028689|20180214|123459988|        114|       Education|             78.9|             1|\n",
      "|4210653312478046|20180813|123455692|        156|         Grocery|            91.08|         22562|\n",
      "|4210653342242023|20180315|123451310|        180|           Bills|            77.79|         45069|\n",
      "+----------------+--------+---------+-----------+----------------+-----------------+--------------+\n",
      "only showing top 3 rows\n",
      "\n"
     ]
    }
   ],
   "source": [
    "credit.show(3)"
   ]
  },
  {
   "cell_type": "code",
   "execution_count": 91,
   "metadata": {},
   "outputs": [
    {
     "data": {
      "text/plain": [
       "'201802'"
      ]
     },
     "execution_count": 91,
     "metadata": {},
     "output_type": "execute_result"
    }
   ],
   "source": [
    "month = str(2)\n",
    "year = str(2018)\n",
    "date_string = year+month.zfill(2)\n",
    "credit_card_no = '4210653349028689'\n",
    "date_string"
   ]
  },
  {
   "cell_type": "code",
   "execution_count": 101,
   "metadata": {},
   "outputs": [
    {
     "name": "stdout",
     "output_type": "stream",
     "text": [
      "+----------------+----------------------+\n",
      "|      CUST_CC_NO|sum(TRANSACTION_VALUE)|\n",
      "+----------------+----------------------+\n",
      "|4210653349028689|                358.91|\n",
      "+----------------+----------------------+\n",
      "\n"
     ]
    }
   ],
   "source": [
    "q = \"SELECT CUST_CC_NO, SUM(TRANSACTION_VALUE) \"\\\n",
    "    \"FROM credit_tb \" \\\n",
    "    f\"WHERE CUST_CC_NO = '{credit_card_no}' \"\\\n",
    "    f\"AND TIMEID LIKE '{date_string}%' \"\\\n",
    "    \"GROUP BY CUST_CC_NO;\"\n",
    "\n",
    "spark.sql(q).show()"
   ]
  },
  {
   "cell_type": "code",
   "execution_count": 127,
   "metadata": {},
   "outputs": [
    {
     "name": "stdout",
     "output_type": "stream",
     "text": [
      "+----------------+--------+---------+-----------+----------------+-----------------+--------------+\n",
      "|      CUST_CC_NO|  TIMEID| CUST_SSN|BRANCH_CODE|TRANSACTION_TYPE|TRANSACTION_VALUE|TRANSACTION_ID|\n",
      "+----------------+--------+---------+-----------+----------------+-----------------+--------------+\n",
      "|4210653383230786|20181227|123459499|        188|           Bills|            88.71|          2574|\n",
      "|4210653383230786|20181211|123459499|        126|   Entertainment|            14.58|          2606|\n",
      "|4210653383230786|20181206|123459499|         58|       Education|            40.76|          2542|\n",
      "|4210653383230786|20181205|123459499|         76|         Grocery|            98.46|          2616|\n",
      "|4210653383230786|20181201|123459499|         90|            Test|            12.27|          2555|\n",
      "|4210653383230786|20181118|123459499|         81|             Gas|             35.0|          2618|\n",
      "|4210653383230786|20181116|123459499|        117|       Education|             87.6|          2629|\n",
      "|4210653383230786|20181110|123459499|         26|           Bills|             73.0|          2553|\n",
      "|4210653383230786|20181109|123459499|        149|           Bills|            65.47|          2558|\n",
      "|4210653383230786|20181108|123459499|        131|            Test|             25.2|          2565|\n",
      "|4210653383230786|20181106|123459499|         18|             Gas|             30.0|          2614|\n",
      "|4210653383230786|20181104|123459499|         21|           Bills|            57.11|          2615|\n",
      "+----------------+--------+---------+-----------+----------------+-----------------+--------------+\n",
      "\n"
     ]
    }
   ],
   "source": [
    "q = \"SELECT * FROM credit_tb WHERE CUST_CC_NO='4210653383230786' AND TIMEID between '20181101' and '20181231' order by TIMEID desc;\"\n",
    "spark.sql(q).show()"
   ]
  },
  {
   "cell_type": "code",
   "execution_count": 124,
   "metadata": {},
   "outputs": [
    {
     "name": "stdout",
     "output_type": "stream",
     "text": [
      "+--------+\n",
      "|  TIMEID|\n",
      "+--------+\n",
      "|20181201|\n",
      "|20181202|\n",
      "|20181202|\n",
      "|20181203|\n",
      "|20181201|\n",
      "|20181202|\n",
      "|20181201|\n",
      "|20181201|\n",
      "|20181201|\n",
      "|20181203|\n",
      "|20181202|\n",
      "|20181203|\n",
      "|20181202|\n",
      "|20181202|\n",
      "|20181202|\n",
      "|20181201|\n",
      "|20181202|\n",
      "|20181202|\n",
      "|20181203|\n",
      "|20181203|\n",
      "|20181203|\n",
      "|20181202|\n",
      "|20181203|\n",
      "|20181203|\n",
      "|20181203|\n",
      "|20181202|\n",
      "|20181203|\n",
      "|20181201|\n",
      "|20181203|\n",
      "|20181201|\n",
      "+--------+\n",
      "only showing top 30 rows\n",
      "\n"
     ]
    }
   ],
   "source": [
    "spark.sql(\"SELECT TIMEID from credit_tb WHERE TIMEID between '20181201' and '20181203' \").show(30)"
   ]
  },
  {
   "attachments": {},
   "cell_type": "markdown",
   "metadata": {},
   "source": [
    "### 3. Data analysis\n",
    "Find and plot which transaction type has a high rate of transactions.\n",
    "\n",
    "Note: Take a screenshot of the graphs. \n",
    "Find and plot which state has a high number of customers.\n",
    "\n",
    "Note: Take a screenshot of the graphs. \n",
    "Find and plot the sum of all transactions for each customer, and which customer has the highest transaction amount.\n",
    "hint(use CUST_SSN).\n",
    "\n",
    "Note: Take a screenshot of the graphs. \n",
    "\n"
   ]
  },
  {
   "cell_type": "code",
   "execution_count": 200,
   "metadata": {},
   "outputs": [],
   "source": [
    "pdf = spark.sql(\"Select TRANSACTION_TYPE, count(*) from credit_tb group by TRANSACTION_TYPE\").toPandas()"
   ]
  },
  {
   "cell_type": "code",
   "execution_count": 202,
   "metadata": {},
   "outputs": [
    {
     "data": {
      "text/plain": [
       "<AxesSubplot: >"
      ]
     },
     "execution_count": 202,
     "metadata": {},
     "output_type": "execute_result"
    },
    {
     "data": {
      "image/png": "[encoded data removed]",
      "text/plain": [
       "<Figure size 640x480 with 1 Axes>"
      ]
     },
     "metadata": {},
     "output_type": "display_data"
    },
    {
     "name": "stdout",
     "output_type": "stream",
     "text": [
      "23/02/21 06:14:53 WARN HeartbeatReceiver: Removing executor driver with no recent heartbeats: 907922 ms exceeds timeout 120000 ms\n",
      "23/02/21 06:14:53 WARN SparkContext: Killing executors is not supported by current scheduler.\n"
     ]
    }
   ],
   "source": [
    "pdf.plot(kind='bar')"
   ]
  },
  {
   "cell_type": "code",
   "execution_count": 204,
   "metadata": {},
   "outputs": [],
   "source": [
    "pdf = spark.sql(\"Select CUST_STATE, count(*) from customer_tb group by CUST_STATE\").toPandas()"
   ]
  },
  {
   "cell_type": "code",
   "execution_count": 203,
   "metadata": {},
   "outputs": [
    {
     "name": "stdout",
     "output_type": "stream",
     "text": [
      "root\n",
      " |-- SSN: integer (nullable = true)\n",
      " |-- FIRST_NAME: string (nullable = true)\n",
      " |-- MIDDLE_NAME: string (nullable = true)\n",
      " |-- LAST_NAME: string (nullable = true)\n",
      " |-- CREDIT_CARD_NO: string (nullable = true)\n",
      " |-- FULL_STREET_ADDRESS: string (nullable = true)\n",
      " |-- CUST_CITY: string (nullable = true)\n",
      " |-- CUST_STATE: string (nullable = true)\n",
      " |-- CUST_COUNTRY: string (nullable = true)\n",
      " |-- CUST_ZIP: integer (nullable = true)\n",
      " |-- CUST_PHONE: string (nullable = true)\n",
      " |-- CUST_EMAIL: string (nullable = true)\n",
      " |-- LAST_UPDATED: timestamp (nullable = true)\n",
      "\n"
     ]
    }
   ],
   "source": [
    "customer.printSchema()"
   ]
  },
  {
   "cell_type": "code",
   "execution_count": 205,
   "metadata": {},
   "outputs": [
    {
     "data": {
      "text/plain": [
       "<AxesSubplot: >"
      ]
     },
     "execution_count": 205,
     "metadata": {},
     "output_type": "execute_result"
    },
    {
     "data": {
      "image/png": "[encoded data removed]",
      "text/plain": [
       "<Figure size 640x480 with 1 Axes>"
      ]
     },
     "metadata": {},
     "output_type": "display_data"
    }
   ],
   "source": [
    "pdf.plot(kind='bar')"
   ]
  },
  {
   "cell_type": "code",
   "execution_count": 206,
   "metadata": {},
   "outputs": [
    {
     "name": "stdout",
     "output_type": "stream",
     "text": [
      "root\n",
      " |-- CUST_CC_NO: string (nullable = true)\n",
      " |-- TIMEID: string (nullable = true)\n",
      " |-- CUST_SSN: integer (nullable = true)\n",
      " |-- BRANCH_CODE: integer (nullable = true)\n",
      " |-- TRANSACTION_TYPE: string (nullable = true)\n",
      " |-- TRANSACTION_VALUE: double (nullable = true)\n",
      " |-- TRANSACTION_ID: integer (nullable = true)\n",
      "\n"
     ]
    }
   ],
   "source": [
    "credit.printSchema()"
   ]
  },
  {
   "cell_type": "code",
   "execution_count": 13,
   "metadata": {},
   "outputs": [
    {
     "name": "stdout",
     "output_type": "stream",
     "text": [
      "+---------+----------+----------+------------------+\n",
      "| CUST_SSN|FIRST_NAME| LAST_NAME|          Spending|\n",
      "+---------+----------+----------+------------------+\n",
      "|123451125|        Ty|      Daly|5633.0700000000015|\n",
      "|123452783|    Jessie|   Boucher| 5548.140000000001|\n",
      "|123453486|    Phoebe|    Martin| 5476.079999999999|\n",
      "|123458668|   Thurman|      Vera| 5314.970000000003|\n",
      "|123456678|      Bret|   Perkins| 5261.030000000001|\n",
      "|123452026|    Joesph|   Mcclain|           5241.18|\n",
      "|123452518|   Aurelia|      Haas| 5223.959999999999|\n",
      "|123454933|   Marcelo|   Emerson| 5203.080000000001|\n",
      "|123457547|    Alexis|Villarreal|           5149.75|\n",
      "|123452085| Christina|      Snow| 5133.290000000002|\n",
      "+---------+----------+----------+------------------+\n",
      "\n"
     ]
    }
   ],
   "source": [
    "# TODO: CHECK the result!, DASH?\n",
    "spark.sql(\"Select  credit_tb.CUST_SSN, customer_tb.FIRST_NAME, customer_tb.LAST_NAME, SUM(credit_tb.TRANSACTION_VALUE) as Spending from credit_tb \\\n",
    "    JOIN customer_tb ON credit_tb.CUST_SSN = customer_tb.SSN group by credit_tb.CUST_SSN,customer_tb.FIRST_NAME, customer_tb.LAST_NAME ORDER BY Spending DESC LIMIT 10;\").show()"
   ]
  },
  {
   "attachments": {},
   "cell_type": "markdown",
   "metadata": {},
   "source": [
    "### Req.5 Data Analysis and Visualization\n",
    "*   Find and plot the percentage of applications approved for self-employed applicants.\n",
    "\n",
    "*    Find the percentage of rejection for married male applicants.\n",
    "\n",
    "*    Find and plot the top three months with the largest transaction data.\n",
    "\n",
    "*    Find and plot which branch processed the highest total dollar value of healthcare transactions.\n",
    "\n",
    "\n"
   ]
  },
  {
   "cell_type": "code",
   "execution_count": 17,
   "metadata": {},
   "outputs": [
    {
     "name": "stdout",
     "output_type": "stream",
     "text": [
      "+--------------+------+-------+----------+------------+-------------+--------------+-------------+------+------------------+\n",
      "|Application_ID|Gender|Married|Dependents|   Education|Self_Employed|Credit_History|Property_Area|Income|Application_Status|\n",
      "+--------------+------+-------+----------+------------+-------------+--------------+-------------+------+------------------+\n",
      "|      LP001520|  Male|    Yes|         0|    Graduate|           No|             1|    Semiurban|medium|                 Y|\n",
      "|      LP001744|  Male|     No|         0|    Graduate|           No|             1|    Semiurban|   low|                 Y|\n",
      "|      LP001245|  Male|    Yes|         2|Not Graduate|          Yes|             1|    Semiurban|   low|                 Y|\n",
      "+--------------+------+-------+----------+------------+-------------+--------------+-------------+------+------------------+\n",
      "only showing top 3 rows\n",
      "\n"
     ]
    }
   ],
   "source": [
    "## LOAN APPLICATION ANALYSIS:\n",
    "loan = spark.read \\\n",
    "    .jdbc(\"jdbc:mysql://localhost:3306/creditcard_capstone\",\"CDW_SAPP_loan_application\", \\\n",
    "          properties={\"user\": \"root\", \"driver\":\"com.mysql.cj.jdbc.Driver\"})\n",
    "loan.createOrReplaceTempView(\"loan_tb\")\n",
    "loan.show(3)"
   ]
  },
  {
   "cell_type": "code",
   "execution_count": 15,
   "metadata": {},
   "outputs": [
    {
     "name": "stdout",
     "output_type": "stream",
     "text": [
      "root\n",
      " |-- Application_ID: string (nullable = true)\n",
      " |-- Gender: string (nullable = true)\n",
      " |-- Married: string (nullable = true)\n",
      " |-- Dependents: string (nullable = true)\n",
      " |-- Education: string (nullable = true)\n",
      " |-- Self_Employed: string (nullable = true)\n",
      " |-- Credit_History: integer (nullable = true)\n",
      " |-- Property_Area: string (nullable = true)\n",
      " |-- Income: string (nullable = true)\n",
      " |-- Application_Status: string (nullable = true)\n",
      "\n"
     ]
    }
   ],
   "source": [
    "loan.printSchema()"
   ]
  },
  {
   "cell_type": "code",
   "execution_count": 28,
   "metadata": {},
   "outputs": [
    {
     "data": {
      "text/plain": [
       "[Row(Self_Employed='Yes', Application_Status='Y', count=46),\n",
       " Row(Self_Employed='No', Application_Status='Y', count=301),\n",
       " Row(Self_Employed='Yes', Application_Status='N', count=24),\n",
       " Row(Self_Employed='No', Application_Status='N', count=140)]"
      ]
     },
     "execution_count": 28,
     "metadata": {},
     "output_type": "execute_result"
    }
   ],
   "source": [
    "row_list = loan.select(\"Self_Employed\",\"Application_Status\")\\\n",
    "                .groupBy(\"Self_Employed\",\"Application_Status\").count().collect()\n",
    "row_list"
   ]
  },
  {
   "cell_type": "code",
   "execution_count": 45,
   "metadata": {},
   "outputs": [
    {
     "name": "stdout",
     "output_type": "stream",
     "text": [
      "0.66\n"
     ]
    }
   ],
   "source": [
    "total = 0\n",
    "for row  in row_list:\n",
    "    if (row['Self_Employed']==\"Yes\"):\n",
    "        total += row['count']\n",
    "        if (row['Application_Status']=='Y'):\n",
    "            approved = row['count']\n",
    "print(round(approved/total,2))"
   ]
  },
  {
   "cell_type": "code",
   "execution_count": 54,
   "metadata": {},
   "outputs": [
    {
     "data": {
      "text/html": [
       "<div>\n",
       "<style scoped>\n",
       "    .dataframe tbody tr th:only-of-type {\n",
       "        vertical-align: middle;\n",
       "    }\n",
       "\n",
       "    .dataframe tbody tr th {\n",
       "        vertical-align: top;\n",
       "    }\n",
       "\n",
       "    .dataframe thead th {\n",
       "        text-align: right;\n",
       "    }\n",
       "</style>\n",
       "<table border=\"1\" class=\"dataframe\">\n",
       "  <thead>\n",
       "    <tr style=\"text-align: right;\">\n",
       "      <th></th>\n",
       "      <th>Self_Employed</th>\n",
       "      <th>Application_Status</th>\n",
       "      <th>count</th>\n",
       "    </tr>\n",
       "  </thead>\n",
       "  <tbody>\n",
       "    <tr>\n",
       "      <th>0</th>\n",
       "      <td>Yes</td>\n",
       "      <td>Y</td>\n",
       "      <td>46</td>\n",
       "    </tr>\n",
       "    <tr>\n",
       "      <th>1</th>\n",
       "      <td>No</td>\n",
       "      <td>Y</td>\n",
       "      <td>301</td>\n",
       "    </tr>\n",
       "    <tr>\n",
       "      <th>2</th>\n",
       "      <td>Yes</td>\n",
       "      <td>N</td>\n",
       "      <td>24</td>\n",
       "    </tr>\n",
       "    <tr>\n",
       "      <th>3</th>\n",
       "      <td>No</td>\n",
       "      <td>N</td>\n",
       "      <td>140</td>\n",
       "    </tr>\n",
       "  </tbody>\n",
       "</table>\n",
       "</div>"
      ],
      "text/plain": [
       "  Self_Employed Application_Status  count\n",
       "0           Yes                  Y     46\n",
       "1            No                  Y    301\n",
       "2           Yes                  N     24\n",
       "3            No                  N    140"
      ]
     },
     "execution_count": 54,
     "metadata": {},
     "output_type": "execute_result"
    }
   ],
   "source": [
    "row_list = loan.select(\"Self_Employed\",\"Application_Status\")\\\n",
    "                .groupBy(\"Self_Employed\",\"Application_Status\").count().toPandas()\n",
    "row_list"
   ]
  },
  {
   "cell_type": "code",
   "execution_count": 56,
   "metadata": {},
   "outputs": [
    {
     "data": {
      "text/plain": [
       "<seaborn.axisgrid.FacetGrid at 0x17a337820>"
      ]
     },
     "execution_count": 56,
     "metadata": {},
     "output_type": "execute_result"
    },
    {
     "data": {
      "image/png": "[encoded data removed]",
      "text/plain": [
       "<Figure size 640.236x500 with 1 Axes>"
      ]
     },
     "metadata": {},
     "output_type": "display_data"
    }
   ],
   "source": [
    "sns.catplot(data=row_list, x='Self_Employed', y=\"count\", hue=\"Application_Status\", kind=\"bar\")"
   ]
  },
  {
   "cell_type": "code",
   "execution_count": 57,
   "metadata": {},
   "outputs": [
    {
     "data": {
      "text/plain": [
       "[Row(Married='No', Gender='Female', Application_Status='Y', count=40),\n",
       " Row(Married='Yes', Gender='Male', Application_Status='Y', count=219),\n",
       " Row(Married='Yes', Gender='Male', Application_Status='N', count=87),\n",
       " Row(Married='Yes', Gender='Female', Application_Status='Y', count=17),\n",
       " Row(Married='No', Gender='Female', Application_Status='N', count=26),\n",
       " Row(Married='No', Gender='Male', Application_Status='N', count=43),\n",
       " Row(Married='Yes', Gender='Female', Application_Status='N', count=8),\n",
       " Row(Married='No', Gender='Male', Application_Status='Y', count=71)]"
      ]
     },
     "execution_count": 57,
     "metadata": {},
     "output_type": "execute_result"
    }
   ],
   "source": [
    "row_list = loan.select(\"Married\", \"Gender\", \"Application_Status\")\\\n",
    "                .groupBy(\"Married\",\"Gender\", \"Application_Status\").count().collect()\n",
    "row_list"
   ]
  },
  {
   "cell_type": "code",
   "execution_count": 58,
   "metadata": {},
   "outputs": [
    {
     "data": {
      "text/html": [
       "<div>\n",
       "<style scoped>\n",
       "    .dataframe tbody tr th:only-of-type {\n",
       "        vertical-align: middle;\n",
       "    }\n",
       "\n",
       "    .dataframe tbody tr th {\n",
       "        vertical-align: top;\n",
       "    }\n",
       "\n",
       "    .dataframe thead th {\n",
       "        text-align: right;\n",
       "    }\n",
       "</style>\n",
       "<table border=\"1\" class=\"dataframe\">\n",
       "  <thead>\n",
       "    <tr style=\"text-align: right;\">\n",
       "      <th></th>\n",
       "      <th>Married</th>\n",
       "      <th>Gender</th>\n",
       "      <th>Application_Status</th>\n",
       "      <th>count</th>\n",
       "    </tr>\n",
       "  </thead>\n",
       "  <tbody>\n",
       "    <tr>\n",
       "      <th>0</th>\n",
       "      <td>No</td>\n",
       "      <td>Female</td>\n",
       "      <td>Y</td>\n",
       "      <td>40</td>\n",
       "    </tr>\n",
       "    <tr>\n",
       "      <th>1</th>\n",
       "      <td>Yes</td>\n",
       "      <td>Male</td>\n",
       "      <td>Y</td>\n",
       "      <td>219</td>\n",
       "    </tr>\n",
       "    <tr>\n",
       "      <th>2</th>\n",
       "      <td>Yes</td>\n",
       "      <td>Male</td>\n",
       "      <td>N</td>\n",
       "      <td>87</td>\n",
       "    </tr>\n",
       "    <tr>\n",
       "      <th>3</th>\n",
       "      <td>Yes</td>\n",
       "      <td>Female</td>\n",
       "      <td>Y</td>\n",
       "      <td>17</td>\n",
       "    </tr>\n",
       "    <tr>\n",
       "      <th>4</th>\n",
       "      <td>No</td>\n",
       "      <td>Female</td>\n",
       "      <td>N</td>\n",
       "      <td>26</td>\n",
       "    </tr>\n",
       "    <tr>\n",
       "      <th>5</th>\n",
       "      <td>No</td>\n",
       "      <td>Male</td>\n",
       "      <td>N</td>\n",
       "      <td>43</td>\n",
       "    </tr>\n",
       "    <tr>\n",
       "      <th>6</th>\n",
       "      <td>Yes</td>\n",
       "      <td>Female</td>\n",
       "      <td>N</td>\n",
       "      <td>8</td>\n",
       "    </tr>\n",
       "    <tr>\n",
       "      <th>7</th>\n",
       "      <td>No</td>\n",
       "      <td>Male</td>\n",
       "      <td>Y</td>\n",
       "      <td>71</td>\n",
       "    </tr>\n",
       "  </tbody>\n",
       "</table>\n",
       "</div>"
      ],
      "text/plain": [
       "  Married  Gender Application_Status  count\n",
       "0      No  Female                  Y     40\n",
       "1     Yes    Male                  Y    219\n",
       "2     Yes    Male                  N     87\n",
       "3     Yes  Female                  Y     17\n",
       "4      No  Female                  N     26\n",
       "5      No    Male                  N     43\n",
       "6     Yes  Female                  N      8\n",
       "7      No    Male                  Y     71"
      ]
     },
     "execution_count": 58,
     "metadata": {},
     "output_type": "execute_result"
    }
   ],
   "source": [
    "df_p = loan.select(\"Married\", \"Gender\", \"Application_Status\")\\\n",
    "                .groupBy(\"Married\",\"Gender\", \"Application_Status\").count().toPandas()\n",
    "df_p"
   ]
  },
  {
   "cell_type": "code",
   "execution_count": 60,
   "metadata": {},
   "outputs": [
    {
     "data": {
      "text/plain": [
       "<seaborn.axisgrid.FacetGrid at 0x1481ddf10>"
      ]
     },
     "execution_count": 60,
     "metadata": {},
     "output_type": "execute_result"
    },
    {
     "data": {
      "image/png": "[encoded data removed]",
      "text/plain": [
       "<Figure size 640.236x500 with 1 Axes>"
      ]
     },
     "metadata": {},
     "output_type": "display_data"
    }
   ],
   "source": [
    "sns.catplot(data=df_p[[\"Gender\",\"Application_Status\",\"count\"]], x=\"Gender\", y=\"count\", hue=\"Application_Status\", kind=\"bar\")"
   ]
  },
  {
   "cell_type": "code",
   "execution_count": 61,
   "metadata": {},
   "outputs": [
    {
     "data": {
      "text/plain": [
       "<seaborn.axisgrid.FacetGrid at 0x14847f970>"
      ]
     },
     "execution_count": 61,
     "metadata": {},
     "output_type": "execute_result"
    },
    {
     "data": {
      "image/png": "[encoded data removed]",
      "text/plain": [
       "<Figure size 640.236x500 with 1 Axes>"
      ]
     },
     "metadata": {},
     "output_type": "display_data"
    }
   ],
   "source": [
    "sns.catplot(data=df_p[[\"Married\",\"Application_Status\",\"count\"]], x=\"Married\", y=\"count\", hue=\"Application_Status\", kind=\"bar\")"
   ]
  },
  {
   "cell_type": "code",
   "execution_count": 50,
   "metadata": {},
   "outputs": [
    {
     "data": {
      "text/plain": [
       "([Row(Married='Yes', Gender='Male', Application_Status='Y', count=219)],\n",
       " [Row(Married='Yes', Gender='Male', Application_Status='N', count=87)])"
      ]
     },
     "execution_count": 50,
     "metadata": {},
     "output_type": "execute_result"
    }
   ],
   "source": [
    "approved = loan.select(\"Married\", \"Gender\", \"Application_Status\")\\\n",
    "                .filter(loan[\"Married\"]=='Yes')\\\n",
    "                .filter(loan[\"Gender\"]=='Male')\\\n",
    "                .filter(loan[\"Application_Status\"]=='Y')\\\n",
    "                .groupBy(\"Married\",\"Gender\", \"Application_Status\").count().collect()\n",
    "rejected = loan.select(\"Married\", \"Gender\", \"Application_Status\")\\\n",
    "                .filter(loan[\"Married\"]=='Yes')\\\n",
    "                .filter(loan[\"Gender\"]=='Male')\\\n",
    "                .filter(loan[\"Application_Status\"]=='N')\\\n",
    "                .groupBy(\"Married\",\"Gender\", \"Application_Status\").count().collect()\n",
    "approved, rejected"
   ]
  },
  {
   "cell_type": "code",
   "execution_count": 51,
   "metadata": {},
   "outputs": [
    {
     "data": {
      "text/plain": [
       "0.28431372549019607"
      ]
     },
     "execution_count": 51,
     "metadata": {},
     "output_type": "execute_result"
    }
   ],
   "source": [
    "rejected[0]['count']/(approved[0]['count']+rejected[0]['count'])"
   ]
  },
  {
   "cell_type": "code",
   "execution_count": null,
   "metadata": {},
   "outputs": [],
   "source": []
  }
 ],
 "metadata": {
  "kernelspec": {
   "display_name": "env",
   "language": "python",
   "name": "python3"
  },
  "language_info": {
   "codemirror_mode": {
    "name": "ipython",
    "version": 3
   },
   "file_extension": ".py",
   "mimetype": "text/x-python",
   "name": "python",
   "nbconvert_exporter": "python",
   "pygments_lexer": "ipython3",
   "version": "3.9.6"
  },
  "orig_nbformat": 4,
  "vscode": {
   "interpreter": {
    "hash": "9c2c7e4c4afbe7793280b80fef6aaed9c4c09651de3f7af19973b8a5171dd804"
   }
  }
 },
 "nbformat": 4,
 "nbformat_minor": 2
}
