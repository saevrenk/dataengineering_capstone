{
 "cells": [
  {
   "cell_type": "code",
   "execution_count": 4,
   "metadata": {},
   "outputs": [],
   "source": [
    "import pyspark\n",
    "import requests\n",
    "import pandas as pd"
   ]
  },
  {
   "cell_type": "code",
   "execution_count": 175,
   "metadata": {},
   "outputs": [],
   "source": [
    "from pyspark.sql import SparkSession\n",
    "from pyspark.sql.functions import concat, lpad, length, regexp_replace, initcap, lower, col, lit"
   ]
  },
  {
   "cell_type": "code",
   "execution_count": 6,
   "metadata": {},
   "outputs": [
    {
     "name": "stdout",
     "output_type": "stream",
     "text": [
      "23/02/17 18:50:37 WARN Utils: Your hostname, Sules-MacBook-Pro.local resolves to a loopback address: 127.0.0.1; using 192.168.0.17 instead (on interface en0)\n",
      "23/02/17 18:50:37 WARN Utils: Set SPARK_LOCAL_IP if you need to bind to another address\n"
     ]
    },
    {
     "name": "stderr",
     "output_type": "stream",
     "text": [
      "Setting default log level to \"WARN\".\n",
      "To adjust logging level use sc.setLogLevel(newLevel). For SparkR, use setLogLevel(newLevel).\n"
     ]
    },
    {
     "name": "stdout",
     "output_type": "stream",
     "text": [
      "23/02/17 18:50:37 WARN NativeCodeLoader: Unable to load native-hadoop library for your platform... using builtin-java classes where applicable\n"
     ]
    }
   ],
   "source": [
    "spark = SparkSession\\\n",
    "    .builder\\\n",
    "    .appName(\"extract\")\\\n",
    "    .getOrCreate()"
   ]
  },
  {
   "attachments": {},
   "cell_type": "markdown",
   "metadata": {},
   "source": [
    "### Functions"
   ]
  },
  {
   "cell_type": "code",
   "execution_count": 7,
   "metadata": {},
   "outputs": [],
   "source": [
    "def get_df_size(sparkdf):\n",
    "    return (sparkdf.count(), len(sparkdf.columns))"
   ]
  },
  {
   "attachments": {},
   "cell_type": "markdown",
   "metadata": {},
   "source": [
    "### 1. Load data sets"
   ]
  },
  {
   "cell_type": "code",
   "execution_count": 191,
   "metadata": {},
   "outputs": [],
   "source": [
    "# JSON files\n",
    "branch = spark.read.json(\"./Credit Card Dataset/cdw_sapp_branch.json\")\n",
    "credit = spark.read.json(\"./Credit Card Dataset/cdw_sapp_credit.json\")\n",
    "customer = spark.read.json(\"./Credit Card Dataset/cdw_sapp_custmer.json\")"
   ]
  },
  {
   "cell_type": "code",
   "execution_count": 10,
   "metadata": {},
   "outputs": [
    {
     "data": {
      "text/plain": [
       "((46694, 9), (115, 8), (952, 14))"
      ]
     },
     "execution_count": 10,
     "metadata": {},
     "output_type": "execute_result"
    }
   ],
   "source": [
    "get_df_size(credit), get_df_size(branch), get_df_size(customer)"
   ]
  },
  {
   "cell_type": "code",
   "execution_count": 11,
   "metadata": {},
   "outputs": [
    {
     "name": "stdout",
     "output_type": "stream",
     "text": [
      "<Response [200]>\n"
     ]
    },
    {
     "name": "stderr",
     "output_type": "stream",
     "text": [
      "/Users/sae/vs_projects/capstone/env/lib/python3.9/site-packages/pyspark/sql/pandas/conversion.py:474: FutureWarning: iteritems is deprecated and will be removed in a future version. Use .items instead.\n",
      "  for column, series in pdf.iteritems():\n",
      "/Users/sae/vs_projects/capstone/env/lib/python3.9/site-packages/pyspark/sql/pandas/conversion.py:486: FutureWarning: iteritems is deprecated and will be removed in a future version. Use .items instead.\n",
      "  for column, series in pdf.iteritems():\n"
     ]
    }
   ],
   "source": [
    "# Loan application API\n",
    "# note add try except for accessing the api\n",
    "url = \"https://raw.githubusercontent.com/platformps/LoanDataset/main/loan_data.json\"\n",
    "response = requests.get(url)\n",
    "print(response)\n",
    "pandas_df = pd.DataFrame(response.json())\n",
    "loan = spark.createDataFrame(pandas_df)"
   ]
  },
  {
   "cell_type": "code",
   "execution_count": 12,
   "metadata": {},
   "outputs": [
    {
     "data": {
      "text/plain": [
       "(511, 10)"
      ]
     },
     "execution_count": 12,
     "metadata": {},
     "output_type": "execute_result"
    }
   ],
   "source": [
    "get_df_size(loan)"
   ]
  },
  {
   "attachments": {},
   "cell_type": "markdown",
   "metadata": {},
   "source": [
    "\n",
    "### 2. Transform data according to the specifications at [Mapping document](https://docs.google.com/spreadsheets/d/1t8UxBrUV6dxx0pM1VIIGZpSf4IKbzjdJ/edit#gid=1823293337)"
   ]
  },
  {
   "cell_type": "code",
   "execution_count": 155,
   "metadata": {},
   "outputs": [],
   "source": [
    "table_names = {'credit':'CDW_SAPP_CREDIT_CARD',\n",
    "               'branch':'CDW_SAPP_BRANCH',\n",
    "               'customer':'CDW_SAPP_CUSTOMER'}\n",
    "# Mapping dictionaries:\n",
    "# tuple: (old_col, new_col, type)\n",
    "column_map = {'credit':[('CREDIT_CARD_NO','CUST_CC_NO','string'),\n",
    "                     #(['DAY','MONTH','YEAR'],'TIMEID','string'),\n",
    "                     ('CUST_SSN','CUST_SSN','integer'),\n",
    "                     ('BRANCH_CODE','BRANCH_CODE','integer'),\n",
    "                     ('TRANSACTION_TYPE','TRANSACTION_TYPE','string'),\n",
    "                     ('TRANSACTION_VALUE','TRANSACTION_VALUE','float'),\n",
    "                     ('TRANSACTION_ID','TRANSACTION_ID','integer')],\n",
    "           'branch':[('BRANCH_CODE','BRANCH_CODE','integer'),\n",
    "                     ('BRANCH_NAME','BRANCH_NAME','integer'),\n",
    "                     ('BRANCH_STREET','BRANCH_STREET','string'),\n",
    "                     ('BRANCH_CITY','BRANCH_CITY','string'),\n",
    "                     ('BRANCH_STATE','BRANCH_STATE','string'),\n",
    "                     ('BRANCH_ZIP','BRANCH_ZIP','integer'),\n",
    "                     ('BRANCH_PHONE','BRANCH_PHONE','string'),\n",
    "                     ('LAST_UPDATED','LAST_UPDATED','timestamp')],\n",
    "           'customer':[('SSN','SSN','integer'),\n",
    "                       ('FIRST_NAME','FIRST_NAME','string'),\n",
    "                       ('MIDDLE_NAME','MIDDLE_NAME','string'),\n",
    "                       ('LAST_NAME','LAST_NAME','string'),\n",
    "                       ('CREDIT_CARD_NO','CREDIT_CARD_NO','string'),\n",
    "                       #(['STREET_NAME','APT_NO'],'FULL_STREET_ADDRESS','string'),\n",
    "                       ('CUST_CITY','CUST_CITY','string'),\n",
    "                       ('CUST_STATE','CUST_STATE','string'),\n",
    "                       ('CUST_COUNTRY','CUST_COUNTRY','string'),\n",
    "                       ('CUST_ZIP','CUST_ZIP','integer'),\n",
    "                       ('CUST_PHONE','CUST_PHONE','string'),\n",
    "                       ('CUST_EMAIL','CUST_EMAIL','string'),\n",
    "                       ('LAST_UPDATED','LAST_UPDATED','timestamp')]}"
   ]
  },
  {
   "cell_type": "code",
   "execution_count": 233,
   "metadata": {},
   "outputs": [],
   "source": [
    "def transform(spark_df, data_name):\n",
    "    map_dict = column_map[data_name]\n",
    "    for tup in map_dict:\n",
    "        #general type casting\n",
    "        new_spark_df = spark_df.withColumn(tup[1],spark_df[tup[0]].cast(tup[2]))\n",
    "        \n",
    "        # special instructions for dataframe transformations\n",
    "        if data_name == 'credit':\n",
    "            new_spark_df = spark_df.withColumns({'MONTH': lpad(spark_df['MONTH'],2,'0'),\n",
    "                                     'DAY':lpad(spark_df['DAY'],2,'0')})\n",
    "            new_spark_df = new_spark_df.withColumns({'TIMEID':concat(\"YEAR\", \"MONTH\", \"DAY\")})\n",
    "        elif data_name == 'branch':\n",
    "            # check for null zip codes:\n",
    "            if new_spark_df.filter(spark_df['BRANCH_ZIP'].isNull()).collect():\n",
    "                new_spark_df = new_spark_df.fillna(value={'BRANCH_ZIP':99999})\n",
    "            # format phone_numbers:\n",
    "            new_spark_df = new_spark_df.withColumn('BRANCH_PHONE',\n",
    "                                                regexp_replace('BRANCH_PHONE', r'(\\d{3})(\\d{3})(\\d{4})',\"($1)$2-$3\"))\n",
    "        elif data_name == 'customer':\n",
    "            new_spark_df = new_spark_df.withColumns({'FIRST_NAME': initcap('FIRST_NAME'),\n",
    "                                                 'MIDDLE_NAME': lower('MIDDLE_NAME'),\n",
    "                                                 'LAST_NAME': initcap('LAST_NAME')})\n",
    "            new_spark_df = new_spark_df.withColumn('FULL_STREET_ADDRESS', concat(col('STREET_NAME'),lit(', '), col('APT_NO')))\n",
    "            new_spark_df = new_spark_df.withColumn('CUST_PHONE',\n",
    "                                                regexp_replace('CUST_PHONE', r'(\\d{3})(\\d{4})',\"(111)$1-$2\"))\n",
    "            \n",
    "            #new_spark_df.show()\n",
    "    return new_spark_df"
   ]
  },
  {
   "cell_type": "code",
   "execution_count": 234,
   "metadata": {},
   "outputs": [
    {
     "name": "stdout",
     "output_type": "stream",
     "text": [
      "+------+----------------+------------+-------------+-------------------+-------------+----------+--------+----------+---------+-------------------+-----------+---------+-----------------+--------------------+\n",
      "|APT_NO|  CREDIT_CARD_NO|   CUST_CITY| CUST_COUNTRY|         CUST_EMAIL|   CUST_PHONE|CUST_STATE|CUST_ZIP|FIRST_NAME|LAST_NAME|       LAST_UPDATED|MIDDLE_NAME|      SSN|      STREET_NAME| FULL_STREET_ADDRESS|\n",
      "+------+----------------+------------+-------------+-------------------+-------------+----------+--------+----------+---------+-------------------+-----------+---------+-----------------+--------------------+\n",
      "|   656|4210653310061055|     Natchez|United States|AHooper@example.com|(111)123-7818|        MS|   39120|      Alec|   Hooper|2018-04-21 12:49:02|         wm|123456100|Main Street North|Main Street North...|\n",
      "|   829|4210653310102868|Wethersfield|United States|EHolman@example.com|(111)123-8933|        CT|   06109|      Etta|   Holman|2018-04-21 12:49:02|    brendan|123453023|    Redwood Drive|  Redwood Drive, 829|\n",
      "|   683|4210653310116272|     Huntley|United States|WDunham@example.com|(111)124-3018|        IL|   60142|    Wilber|   Dunham|2018-04-21 12:49:02|   ezequiel|123454487| 12th Street East|12th Street East,...|\n",
      "+------+----------------+------------+-------------+-------------------+-------------+----------+--------+----------+---------+-------------------+-----------+---------+-----------------+--------------------+\n",
      "only showing top 3 rows\n",
      "\n",
      "+-----------+----------------+---------+---+-----+--------------+----------------+-----------------+----+--------+\n",
      "|BRANCH_CODE|  CREDIT_CARD_NO| CUST_SSN|DAY|MONTH|TRANSACTION_ID|TRANSACTION_TYPE|TRANSACTION_VALUE|YEAR|  TIMEID|\n",
      "+-----------+----------------+---------+---+-----+--------------+----------------+-----------------+----+--------+\n",
      "|        114|4210653349028689|123459988| 14|   02|             1|       Education|             78.9|2018|20180214|\n",
      "|         35|4210653349028689|123459988| 20|   03|             2|   Entertainment|            14.24|2018|20180320|\n",
      "|        160|4210653349028689|123459988| 08|   07|             3|         Grocery|             56.7|2018|20180708|\n",
      "+-----------+----------------+---------+---+-----+--------------+----------------+-----------------+----+--------+\n",
      "only showing top 3 rows\n",
      "\n",
      "+-----------------+-----------+------------+-------------+------------+-----------------+----------+-------------------+\n",
      "|      BRANCH_CITY|BRANCH_CODE| BRANCH_NAME| BRANCH_PHONE|BRANCH_STATE|    BRANCH_STREET|BRANCH_ZIP|       LAST_UPDATED|\n",
      "+-----------------+-----------+------------+-------------+------------+-----------------+----------+-------------------+\n",
      "|        Lakeville|          1|Example Bank|(123)456-5276|          MN|     Bridle Court|     55044|2018-04-18 16:51:47|\n",
      "|          Huntley|          2|Example Bank|(123)461-8993|          IL|Washington Street|     60142|2018-04-18 16:51:47|\n",
      "|SouthRichmondHill|          3|Example Bank|(123)498-5926|          NY|    Warren Street|     11419|2018-04-18 16:51:47|\n",
      "+-----------------+-----------+------------+-------------+------------+-----------------+----------+-------------------+\n",
      "only showing top 3 rows\n",
      "\n"
     ]
    }
   ],
   "source": [
    "transform(customer,'customer').show(3)\n",
    "transform(credit,'credit').show(3)\n",
    "transform(branch,'branch').show(3)"
   ]
  }
 ],
 "metadata": {
  "kernelspec": {
   "display_name": "env",
   "language": "python",
   "name": "python3"
  },
  "language_info": {
   "codemirror_mode": {
    "name": "ipython",
    "version": 3
   },
   "file_extension": ".py",
   "mimetype": "text/x-python",
   "name": "python",
   "nbconvert_exporter": "python",
   "pygments_lexer": "ipython3",
   "version": "3.9.6"
  },
  "orig_nbformat": 4,
  "vscode": {
   "interpreter": {
    "hash": "9c2c7e4c4afbe7793280b80fef6aaed9c4c09651de3f7af19973b8a5171dd804"
   }
  }
 },
 "nbformat": 4,
 "nbformat_minor": 2
}
