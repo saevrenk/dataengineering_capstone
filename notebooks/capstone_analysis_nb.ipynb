{
 "cells": [
  {
   "attachments": {},
   "cell_type": "markdown",
   "metadata": {},
   "source": [
    "### This notebook has the preliminary runs to get the working querries, which are not in functional form.\n",
    "The script analysis_frontend.py run the menu and calls the up to date functions (from functions.py) "
   ]
  },
  {
   "cell_type": "code",
   "execution_count": 7,
   "metadata": {},
   "outputs": [],
   "source": [
    "import os\n",
    "import re\n",
    "import sys"
   ]
  },
  {
   "cell_type": "code",
   "execution_count": 8,
   "metadata": {},
   "outputs": [],
   "source": [
    "# add path to the the main directory\n",
    "sys.path.append(os.getcwd()+'/..')  "
   ]
  },
  {
   "cell_type": "code",
   "execution_count": 9,
   "metadata": {},
   "outputs": [],
   "source": [
    "\n",
    "from pyspark.sql import SparkSession\n",
    "import mysql.connector\n",
    "from pyspark.sql.functions import regexp_replace, regexp_extract, col\n",
    "from functions import (\n",
    "    transaction_by_customer,\n",
    "    get_val_trans_type,\n",
    "    get_trans_state,\n",
    "    get_cust_info,\n",
    "    modify_cust_record,\n",
    "    mysql_updater,\n",
    "    generate_bill,\n",
    "    get_trans_interval,\n",
    ")\n"
   ]
  },
  {
   "cell_type": "markdown",
   "metadata": {},
   "source": []
  },
  {
   "cell_type": "code",
   "execution_count": 10,
   "metadata": {},
   "outputs": [],
   "source": [
    "spark = SparkSession\\\n",
    "    .builder\\\n",
    "    .appName(\"capstone_analysis\")\\\n",
    "    .config(\"spark.jars\",\"/opt/homebrew/Cellar/apache-spark/3.3.1/libexec/jars/mysql-connector-j-8.0.32.jar\")\\\n",
    "    .getOrCreate()"
   ]
  },
  {
   "cell_type": "code",
   "execution_count": 11,
   "metadata": {},
   "outputs": [],
   "source": [
    "mysql_pwd = os.environ.get(\"mysql_pwd\")\n",
    "mysql_user = os.environ.get(\"mysql_user\")"
   ]
  },
  {
   "attachments": {},
   "cell_type": "markdown",
   "metadata": {},
   "source": [
    "### Read data from sources\n"
   ]
  },
  {
   "cell_type": "code",
   "execution_count": null,
   "metadata": {},
   "outputs": [],
   "source": [
    "# read tables\n",
    "\n",
    "credit = spark.read \\\n",
    "    .jdbc(\"jdbc:mysql://localhost:3306/creditcard_capstone\",\"CDW_SAPP_CREDIT_CARD\", \\\n",
    "          properties={\"user\": mysql_user, \"password\": mysql_pwd, \"driver\":\"com.mysql.cj.jdbc.Driver\"})\n",
    "credit.createTempView(\"credit_tb\")\n",
    "credit.show(3)"
   ]
  },
  {
   "cell_type": "code",
   "execution_count": null,
   "metadata": {},
   "outputs": [
    {
     "name": "stdout",
     "output_type": "stream",
     "text": [
      "+-----------+------------+-----------------+-----------------+------------+----------+-------------+-------------------+\n",
      "|BRANCH_CODE| BRANCH_NAME|    BRANCH_STREET|      BRANCH_CITY|BRANCH_STATE|BRANCH_ZIP| BRANCH_PHONE|       LAST_UPDATED|\n",
      "+-----------+------------+-----------------+-----------------+------------+----------+-------------+-------------------+\n",
      "|          1|Example Bank|     Bridle Court|        Lakeville|          MN|     55044|(123)456-5276|2018-04-18 16:51:47|\n",
      "|          2|Example Bank|Washington Street|          Huntley|          IL|     60142|(123)461-8993|2018-04-18 16:51:47|\n",
      "|          3|Example Bank|    Warren Street|SouthRichmondHill|          NY|     11419|(123)498-5926|2018-04-18 16:51:47|\n",
      "+-----------+------------+-----------------+-----------------+------------+----------+-------------+-------------------+\n",
      "only showing top 3 rows\n",
      "\n"
     ]
    }
   ],
   "source": [
    "branch = spark.read \\\n",
    "    .jdbc(\"jdbc:mysql://localhost:3306/creditcard_capstone\",\"CDW_SAPP_BRANCH\", \\\n",
    "          properties={\"user\": mysql_user, \"password\": mysql_pwd,  \"driver\":\"com.mysql.cj.jdbc.Driver\"})\n",
    "branch.createTempView(\"branch_tb\")\n",
    "branch.show(3)"
   ]
  },
  {
   "cell_type": "code",
   "execution_count": null,
   "metadata": {},
   "outputs": [
    {
     "name": "stdout",
     "output_type": "stream",
     "text": [
      "+---------+----------+-----------+---------+----------------+--------------------+------------+----------+-------------+--------+-------------+-------------------+-------------------+\n",
      "|      SSN|FIRST_NAME|MIDDLE_NAME|LAST_NAME|  CREDIT_CARD_NO| FULL_STREET_ADDRESS|   CUST_CITY|CUST_STATE| CUST_COUNTRY|CUST_ZIP|   CUST_PHONE|         CUST_EMAIL|       LAST_UPDATED|\n",
      "+---------+----------+-----------+---------+----------------+--------------------+------------+----------+-------------+--------+-------------+-------------------+-------------------+\n",
      "|123456100|      Alec|         wm|   Hooper|4210653310061055|Main Street North...|     Natchez|        MS|United States|   39120|(111)123-7818|AHooper@example.com|2018-04-21 12:49:02|\n",
      "|123453023|      Etta|    brendan|   Holman|4210653310102868|  Redwood Drive, 829|Wethersfield|        CT|United States|    6109|(111)123-8933|EHolman@example.com|2018-04-21 12:49:02|\n",
      "|123454487|    Wilber|   ezequiel|   Dunham|4210653310116272|12th Street East,...|     Huntley|        IL|United States|   60142|(111)124-3018|WDunham@example.com|2018-04-21 12:49:02|\n",
      "+---------+----------+-----------+---------+----------------+--------------------+------------+----------+-------------+--------+-------------+-------------------+-------------------+\n",
      "only showing top 3 rows\n",
      "\n"
     ]
    }
   ],
   "source": [
    "customer = spark.read \\\n",
    "    .jdbc(\"jdbc:mysql://localhost:3306/creditcard_capstone\",\"CDW_SAPP_CUSTOMER\", \\\n",
    "          properties={\"user\":mysql_user,  \"password\": mysql_pwd,\"driver\":\"com.mysql.cj.jdbc.Driver\"})\n",
    "customer.createTempView(\"customer_tb\")\n",
    "customer.show(3)"
   ]
  },
  {
   "cell_type": "markdown",
   "metadata": {},
   "source": []
  },
  {
   "cell_type": "code",
   "execution_count": null,
   "metadata": {},
   "outputs": [
    {
     "name": "stdout",
     "output_type": "stream",
     "text": [
      "root\n",
      " |-- SSN: integer (nullable = true)\n",
      " |-- FIRST_NAME: string (nullable = true)\n",
      " |-- MIDDLE_NAME: string (nullable = true)\n",
      " |-- LAST_NAME: string (nullable = true)\n",
      " |-- CREDIT_CARD_NO: string (nullable = true)\n",
      " |-- FULL_STREET_ADDRESS: string (nullable = true)\n",
      " |-- CUST_CITY: string (nullable = true)\n",
      " |-- CUST_STATE: string (nullable = true)\n",
      " |-- CUST_COUNTRY: string (nullable = true)\n",
      " |-- CUST_ZIP: integer (nullable = true)\n",
      " |-- CUST_PHONE: string (nullable = true)\n",
      " |-- CUST_EMAIL: string (nullable = true)\n",
      " |-- LAST_UPDATED: timestamp (nullable = true)\n",
      "\n"
     ]
    }
   ],
   "source": [
    "customer.printSchema()"
   ]
  },
  {
   "attachments": {},
   "cell_type": "markdown",
   "metadata": {},
   "source": [
    "### REQ-2.1: Transaction Details \n",
    "1)    Used to display the transactions made by customers living in a given zip code for a given month and year. Order by day in descending order.\n",
    "2)    Used to display the number and total values of transactions for a given type.\n",
    "3)    Used to display the number and total values of transactions for branches in a given state."
   ]
  },
  {
   "cell_type": "code",
   "execution_count": null,
   "metadata": {},
   "outputs": [
    {
     "data": {
      "text/plain": [
       "'201802'"
      ]
     },
     "execution_count": 36,
     "metadata": {},
     "output_type": "execute_result"
    }
   ],
   "source": [
    "# get inputs (write input function with argparse)\n",
    "zipcode = 39120\n",
    "month = str(2)\n",
    "year = str(2018)\n",
    "date_string = year+month.zfill(2)\n",
    "date_string"
   ]
  },
  {
   "cell_type": "code",
   "execution_count": null,
   "metadata": {},
   "outputs": [
    {
     "name": "stdout",
     "output_type": "stream",
     "text": [
      "+----------------+-----------------+--------------+--------+--------+\n",
      "|TRANSACTION_TYPE|TRANSACTION_VALUE|TRANSACTION_ID|  TIMEID|CUST_ZIP|\n",
      "+----------------+-----------------+--------------+--------+--------+\n",
      "|             Gas|            89.75|         22989|20180201|   39120|\n",
      "|            Test|            55.19|          2211|20180201|   39120|\n",
      "|             Gas|            40.91|          3530|20180202|   39120|\n",
      "|       Education|            28.96|         15206|20180203|   39120|\n",
      "|            Test|            38.85|          3548|20180204|   39120|\n",
      "|      Healthcare|             38.4|          3549|20180205|   39120|\n",
      "|       Education|            58.35|         12643|20180206|   39120|\n",
      "|      Healthcare|            25.24|          2196|20180206|   39120|\n",
      "|       Education|            17.88|          2216|20180207|   39120|\n",
      "|      Healthcare|            46.21|         20550|20180208|   39120|\n",
      "|           Bills|            22.17|         15267|20180209|   39120|\n",
      "|            Test|            100.5|         15177|20180210|   39120|\n",
      "|   Entertainment|            16.44|          2204|20180210|   39120|\n",
      "|       Education|            90.37|         12641|20180211|   39120|\n",
      "|       Education|            82.18|         23004|20180211|   39120|\n",
      "|            Test|            90.95|         15213|20180212|   39120|\n",
      "|           Bills|            53.87|         12621|20180214|   39120|\n",
      "|           Bills|            74.63|         23036|20180214|   39120|\n",
      "|           Bills|            46.14|         22993|20180215|   39120|\n",
      "|         Grocery|             6.72|         12665|20180217|   39120|\n",
      "+----------------+-----------------+--------------+--------+--------+\n",
      "only showing top 20 rows\n",
      "\n"
     ]
    }
   ],
   "source": [
    "q = \"SELECT credit_tb.TRANSACTION_TYPE, \"\\\n",
    "    \"credit_tb.TRANSACTION_VALUE, \"\\\n",
    "    \"credit_tb.TRANSACTION_ID, \"\\\n",
    "    \"credit_tb.TIMEID, \"\\\n",
    "    \"customer_tb.CUST_ZIP \"\\\n",
    "    \"FROM credit_tb \" \\\n",
    "    \"JOIN customer_tb \" \\\n",
    "    \"ON credit_tb.CUST_SSN = customer_tb.SSN \"\\\n",
    "    f\"WHERE customer_tb.CUST_ZIP = {zipcode} \"\\\n",
    "    f\"AND credit_tb.TIMEID LIKE '{date_string}%' \"\\\n",
    "    \"ORDER BY TIMEID ASC;\"\n",
    "\n",
    "spark.sql(q).show()"
   ]
  },
  {
   "cell_type": "code",
   "execution_count": null,
   "metadata": {},
   "outputs": [
    {
     "name": "stdout",
     "output_type": "stream",
     "text": [
      "+----------------+\n",
      "|TRANSACTION_TYPE|\n",
      "+----------------+\n",
      "|       Education|\n",
      "|   Entertainment|\n",
      "|      Healthcare|\n",
      "|         Grocery|\n",
      "|            Test|\n",
      "|             Gas|\n",
      "|           Bills|\n",
      "+----------------+\n",
      "\n"
     ]
    }
   ],
   "source": [
    "#2. given transaction types:\n",
    "spark.sql(\"SELECT DISTINCT(TRANSACTION_TYPE) FROM credit_tb;\").show()"
   ]
  },
  {
   "cell_type": "code",
   "execution_count": null,
   "metadata": {},
   "outputs": [
    {
     "name": "stdout",
     "output_type": "stream",
     "text": [
      "+----------------+----------------------+\n",
      "|TRANSACTION_TYPE|sum(TRANSACTION_VALUE)|\n",
      "+----------------+----------------------+\n",
      "|       Education|    337980.07000000146|\n",
      "+----------------+----------------------+\n",
      "\n"
     ]
    }
   ],
   "source": [
    "trans_type = \"Education\"\n",
    "spark.sql(f\"SELECT TRANSACTION_TYPE, SUM(TRANSACTION_VALUE) FROM credit_tb GROUP BY TRANSACTION_TYPE HAVING TRANSACTION_TYPE = '{trans_type}';\").show()"
   ]
  },
  {
   "cell_type": "code",
   "execution_count": null,
   "metadata": {},
   "outputs": [
    {
     "name": "stdout",
     "output_type": "stream",
     "text": [
      "+------------+\n",
      "|BRANCH_STATE|\n",
      "+------------+\n",
      "|          SC|\n",
      "|          MN|\n",
      "|          NJ|\n",
      "|          VA|\n",
      "|          KY|\n",
      "|          MI|\n",
      "|          WI|\n",
      "|          CA|\n",
      "|          CT|\n",
      "|          MT|\n",
      "|          NC|\n",
      "|          MD|\n",
      "|          IL|\n",
      "|          WA|\n",
      "|          MS|\n",
      "|          AL|\n",
      "|          IN|\n",
      "|          OH|\n",
      "|          IA|\n",
      "|          PA|\n",
      "+------------+\n",
      "only showing top 20 rows\n",
      "\n"
     ]
    }
   ],
   "source": [
    "spark.sql(\"SELECT DISTINCT(BRANCH_STATE) FROM branch_tb;\").show()\n"
   ]
  },
  {
   "cell_type": "code",
   "execution_count": null,
   "metadata": {},
   "outputs": [
    {
     "name": "stdout",
     "output_type": "stream",
     "text": [
      "+------------+---------------------+----------------------+\n",
      "|BRANCH_STATE|count(TRANSACTION_ID)|sum(TRANSACTION_VALUE)|\n",
      "+------------+---------------------+----------------------+\n",
      "|          WI|                 1677|     85899.84000000005|\n",
      "+------------+---------------------+----------------------+\n",
      "\n"
     ]
    }
   ],
   "source": [
    "state = 'WI'\n",
    "q = \"SELECT branch_tb.BRANCH_STATE, \"\\\n",
    "    \"COUNT(TRANSACTION_ID), \"\\\n",
    "    \"SUM(TRANSACTION_VALUE) \"\\\n",
    "    \"from credit_tb JOIN branch_tb ON credit_tb.BRANCH_CODE = branch_tb.BRANCH_CODE \"\\\n",
    "    f\"WHERE branch_tb.BRANCH_STATE = '{state}'\"\\\n",
    "    \"GROUP BY branch_tb.BRANCH_STATE;\"\n",
    "spark.sql(q).show()"
   ]
  },
  {
   "cell_type": "markdown",
   "metadata": {},
   "source": []
  },
  {
   "attachments": {},
   "cell_type": "markdown",
   "metadata": {},
   "source": [
    "### REQ-2.2: Customer Details Module\n",
    "1) Used to check the existing account details of a customer. (hide part of ssn)\n",
    "2) Used to modify the existing account details of a customer.\n",
    "3) Used to generate a monthly bill for a credit card number for a given month and year.\n",
    "4) Used to display the transactions made by a customer between two dates. Order by year, month, and day in descending order.\n"
   ]
  },
  {
   "cell_type": "markdown",
   "metadata": {},
   "source": []
  },
  {
   "cell_type": "code",
   "execution_count": null,
   "metadata": {},
   "outputs": [
    {
     "name": "stdout",
     "output_type": "stream",
     "text": [
      "Alec wm Hooper\n",
      "+----------+----------+-----------+---------+----------------+--------------------+---------+----------+-------------+--------+-------------+-------------------+-------------------+\n",
      "|SSN_masked|FIRST_NAME|MIDDLE_NAME|LAST_NAME|  CREDIT_CARD_NO| FULL_STREET_ADDRESS|CUST_CITY|CUST_STATE| CUST_COUNTRY|CUST_ZIP|   CUST_PHONE|         CUST_EMAIL|       LAST_UPDATED|\n",
      "+----------+----------+-----------+---------+----------------+--------------------+---------+----------+-------------+--------+-------------+-------------------+-------------------+\n",
      "| *****6100|      Alec|         wm|   Hooper|4210653310061055|Main Street North...|  Natchez|        MS|United States|   39120|(111)123-7818|AHooper@example.com|2018-04-21 12:49:02|\n",
      "+----------+----------+-----------+---------+----------------+--------------------+---------+----------+-------------+--------+-------------+-------------------+-------------------+\n",
      "\n"
     ]
    }
   ],
   "source": [
    "cut_name = \"Alec wm Hooper\\n\".strip(\"\\n\").split()\n",
    "first = cut_name[0].title()\n",
    "middle = cut_name[1].lower()\n",
    "last = cut_name[2].title()\n",
    "print(first, middle, last)\n",
    "q = f\"SELECT * FROM customer_tb WHERE FIRST_NAME='{first}' AND MIDDLE_NAME='{middle}' AND LAST_NAME='{last}'\" \n",
    "dfnew  = spark.sql(q)\n",
    "dfnew = dfnew.withColumn(\"SSN_masked\", regexp_replace(dfnew['SSN'],r\"(\\d{5})(\\d{4})\", \"*****$2\"))\n",
    "dfnew.select('SSN_masked','FIRST_NAME', 'MIDDLE_NAME', 'LAST_NAME', \n",
    "                       'CREDIT_CARD_NO', 'FULL_STREET_ADDRESS', 'CUST_CITY',\n",
    "                        'CUST_STATE', 'CUST_COUNTRY', 'CUST_ZIP', 'CUST_PHONE', \n",
    "                        'CUST_EMAIL', 'LAST_UPDATED').show()"
   ]
  },
  {
   "cell_type": "code",
   "execution_count": null,
   "metadata": {},
   "outputs": [],
   "source": [
    "# update table are not available error for the below expression (UPDATE TABLE is not supported temporarily)\n",
    "spark.sql(\"UPDATE customer_tb  SET LAST_UPDATED = CURRENT_TIMESTAMP() WHERE FIRST_NAME='Alec'\")\n"
   ]
  },
  {
   "cell_type": "code",
   "execution_count": null,
   "metadata": {},
   "outputs": [],
   "source": [
    "# modify account details: (write out to the db, update last updated with timestamp now())\n",
    "# read new info\n",
    "# update table \n",
    "#save df to database\n",
    "# Please enter item numbers to be modified:\n",
    "\n",
    "def modify_customer_record():\n",
    "    string1=\"\"\"Please choose a number 1 to 5 to update one of the following:\n",
    "    1 |-- NAME\n",
    "    2 |-- CREDIT_CARD_NO\n",
    "    3 |-- ADRESS\n",
    "    4 |-- CUST_PHONE\n",
    "    5 |-- CUST_EMAIL\n",
    "    \"\"\"\n",
    "    choice = int(input(string1))\n",
    "    if choice not in range(1,6):\n",
    "        print('You entered a wrong choice!')\n",
    "        choice = int(input(string1))\n",
    "\n",
    "    ssn = input(\"Please enter the SSN for the record you wish to update\").strip()\n",
    "    if choice == 1:\n",
    "        new_first = input(\"Enter new first name:\").strip().title()\n",
    "        new_middle = input(\"Enter new middle name:\").strip().lower()\n",
    "        new_last = input(\"Enter new last name:\").strip().title()\n",
    "        changes = f\"UPDATE customer_tb SET FIRST_NAME = '{new_first}', \"\\\n",
    "            f\"MIDDLE_NAME = '{new_middle}', \"\\\n",
    "            f\"LAST_NAME = '{new_last}' \"    \n",
    "\n",
    "    elif choice == 2:\n",
    "        new_card = input(\"Enter 16-digit new credit card number:\").strip()\n",
    "        changes = f\"UPDATE customer_tb SET CREDIT_CARD_NO = '{new_card}'\"\n",
    "\n",
    "    elif choice == 3:\n",
    "        new_add = input(\"\"\"Enter street name, street number, \n",
    "        city, state, country, zipcode as a comma separated list\"\"\").strip().split(',')\n",
    "        changes = f\"UPDATE customer_tb SET FULL_STREET_ADRESS = '{new_add[0]}, {new_add[1]}', \"\\\n",
    "            f\"CUST_CITY = '{new_add[2]}', \"\\\n",
    "            f\"CUST_STATE = '{new_add[3]}', \"\\\n",
    "            f\"CUST_COUNTRY = '{new_add[4]}', \"\\\n",
    "            f\"ZIP_CODE = '{new_add[5]}' \"\n",
    "\n",
    "    elif choice == 4:\n",
    "        new_phone = input(\"Enter new phone as a 10 digit number (no dashes,spaces or parantheses):\").strip()\n",
    "        new_phone = re.sub(r'(\\d{3})(\\d{3})(\\d{4})',r\"(\\1)\\2-\\3\", new_phone)\n",
    "        changes = f\"UPDATE customer_tb SET CUST_PHONE = '{new_phone}' \"\n",
    "    \n",
    "    elif choice == 5:\n",
    "        new_email = input(\"Enter new email address:\").strip()\n",
    "        changes = f\"UPDATE customer_tb SET CUST_EMAIL = '{new_email}' \"\n",
    "\n",
    "    changes = changes + f\"WHERE SSN = '{ssn}';\"\n",
    "    \n",
    "    return ssn, changes"
   ]
  },
  {
   "cell_type": "code",
   "execution_count": null,
   "metadata": {},
   "outputs": [],
   "source": [
    "ssn='123456100'\n",
    "ssn, sql_update = modify_customer_record()\n"
   ]
  },
  {
   "cell_type": "code",
   "execution_count": null,
   "metadata": {},
   "outputs": [
    {
     "data": {
      "text/plain": [
       "\"UPDATE customer_tb SET FIRST_NAME = 'Alex', MIDDLE_NAME = 'd', LAST_NAME = 'Cooper' WHERE SSN = '123456100';\""
      ]
     },
     "execution_count": 10,
     "metadata": {},
     "output_type": "execute_result"
    }
   ],
   "source": [
    "sql_update"
   ]
  },
  {
   "cell_type": "code",
   "execution_count": null,
   "metadata": {},
   "outputs": [],
   "source": [
    "sql_update = \"UPDATE CDW_SAPP_CUSTOMER SET CUST_PHONE = '(111)111-1111' WHERE SSN = '123456100';\""
   ]
  },
  {
   "cell_type": "code",
   "execution_count": null,
   "metadata": {},
   "outputs": [],
   "source": [
    "ssn, sql_update\n",
    "mydb = mysql.connector.connect(\n",
    "  host=\"localhost\",\n",
    "  user=mysql_user,\n",
    "  password=mysql_pwd,\n",
    "  database=\"creditcard_capstone\"\n",
    ")"
   ]
  },
  {
   "cell_type": "code",
   "execution_count": null,
   "metadata": {},
   "outputs": [
    {
     "name": "stdout",
     "output_type": "stream",
     "text": [
      "1 record(s) affected\n"
     ]
    }
   ],
   "source": [
    "mycursor = mydb.cursor()\n",
    "sql = sql_update\n",
    "mycursor.execute(sql)\n",
    "mydb.commit()\n",
    "print(mycursor.rowcount, \"record(s) affected\")"
   ]
  },
  {
   "cell_type": "code",
   "execution_count": null,
   "metadata": {},
   "outputs": [
    {
     "data": {
      "text/plain": [
       "\"UPDATE CDW_SAPP_CUSTOMER SET CUST_PHONE = '(111)111-1111' WHERE SSN = '123456100';\""
      ]
     },
     "execution_count": 21,
     "metadata": {},
     "output_type": "execute_result"
    }
   ],
   "source": [
    "sql_update"
   ]
  },
  {
   "cell_type": "code",
   "execution_count": null,
   "metadata": {},
   "outputs": [
    {
     "data": {
      "text/plain": [
       "'(111)111-1111'"
      ]
     },
     "execution_count": 174,
     "metadata": {},
     "output_type": "execute_result"
    }
   ],
   "source": [
    "import re\n",
    "re.sub(r'(\\d{3})(\\d{3})(\\d{4})',r\"(\\1)\\2-\\3\", '1111111111' )"
   ]
  },
  {
   "cell_type": "code",
   "execution_count": null,
   "metadata": {},
   "outputs": [
    {
     "name": "stdout",
     "output_type": "stream",
     "text": [
      "+----------------+--------+---------+-----------+----------------+-----------------+--------------+\n",
      "|      CUST_CC_NO|  TIMEID| CUST_SSN|BRANCH_CODE|TRANSACTION_TYPE|TRANSACTION_VALUE|TRANSACTION_ID|\n",
      "+----------------+--------+---------+-----------+----------------+-----------------+--------------+\n",
      "|4210653349028689|20180214|123459988|        114|       Education|             78.9|             1|\n",
      "|4210653312478046|20180813|123455692|        156|         Grocery|            91.08|         22562|\n",
      "|4210653342242023|20180315|123451310|        180|           Bills|            77.79|         45069|\n",
      "+----------------+--------+---------+-----------+----------------+-----------------+--------------+\n",
      "only showing top 3 rows\n",
      "\n"
     ]
    }
   ],
   "source": [
    "credit.show(3)"
   ]
  },
  {
   "cell_type": "code",
   "execution_count": null,
   "metadata": {},
   "outputs": [
    {
     "data": {
      "text/plain": [
       "'201802'"
      ]
     },
     "execution_count": 14,
     "metadata": {},
     "output_type": "execute_result"
    }
   ],
   "source": [
    "month = str(2)\n",
    "year = str(2018)\n",
    "date_string = year+month.zfill(2)\n",
    "credit_card_no = '4210653349028689'\n",
    "date_string"
   ]
  },
  {
   "cell_type": "code",
   "execution_count": null,
   "metadata": {},
   "outputs": [
    {
     "name": "stdout",
     "output_type": "stream",
     "text": [
      "+----------------+--------+-----------+\n",
      "|      CUST_CC_NO|  TIMEID|Daily_Total|\n",
      "+----------------+--------+-----------+\n",
      "|4210653349028689|20180203|      31.87|\n",
      "|4210653349028689|20180224|      97.98|\n",
      "|4210653349028689|20180206|      12.43|\n",
      "|4210653349028689|20180215|      46.53|\n",
      "|4210653349028689|20180202|       91.2|\n",
      "|4210653349028689|20180214|       78.9|\n",
      "+----------------+--------+-----------+\n",
      "\n"
     ]
    },
    {
     "name": "stdout",
     "output_type": "stream",
     "text": [
      "23/02/24 07:41:32 WARN HeartbeatReceiver: Removing executor driver with no recent heartbeats: 989018 ms exceeds timeout 120000 ms\n",
      "23/02/24 07:41:32 WARN SparkContext: Killing executors is not supported by current scheduler.\n"
     ]
    }
   ],
   "source": [
    "q = \"SELECT CUST_CC_NO, TIMEID, SUM(TRANSACTION_VALUE) as Daily_Total \"\\\n",
    "    \"FROM credit_tb \" \\\n",
    "    f\"WHERE CUST_CC_NO = '{credit_card_no}' \"\\\n",
    "    f\"AND TIMEID LIKE '{date_string}%' \"\\\n",
    "    \"GROUP BY CUST_CC_NO, TIMEID;\"\n",
    "\n",
    "spark.sql(q).show()"
   ]
  },
  {
   "cell_type": "code",
   "execution_count": null,
   "metadata": {},
   "outputs": [
    {
     "name": "stdout",
     "output_type": "stream",
     "text": [
      "+----------------+--------+---------+-----------+----------------+-----------------+--------------+\n",
      "|      CUST_CC_NO|  TIMEID| CUST_SSN|BRANCH_CODE|TRANSACTION_TYPE|TRANSACTION_VALUE|TRANSACTION_ID|\n",
      "+----------------+--------+---------+-----------+----------------+-----------------+--------------+\n",
      "|4210653383230786|20181227|123459499|        188|           Bills|            88.71|          2574|\n",
      "|4210653383230786|20181211|123459499|        126|   Entertainment|            14.58|          2606|\n",
      "|4210653383230786|20181206|123459499|         58|       Education|            40.76|          2542|\n",
      "|4210653383230786|20181205|123459499|         76|         Grocery|            98.46|          2616|\n",
      "|4210653383230786|20181201|123459499|         90|            Test|            12.27|          2555|\n",
      "|4210653383230786|20181118|123459499|         81|             Gas|             35.0|          2618|\n",
      "|4210653383230786|20181116|123459499|        117|       Education|             87.6|          2629|\n",
      "|4210653383230786|20181110|123459499|         26|           Bills|             73.0|          2553|\n",
      "|4210653383230786|20181109|123459499|        149|           Bills|            65.47|          2558|\n",
      "|4210653383230786|20181108|123459499|        131|            Test|             25.2|          2565|\n",
      "|4210653383230786|20181106|123459499|         18|             Gas|             30.0|          2614|\n",
      "|4210653383230786|20181104|123459499|         21|           Bills|            57.11|          2615|\n",
      "+----------------+--------+---------+-----------+----------------+-----------------+--------------+\n",
      "\n"
     ]
    }
   ],
   "source": [
    "q = \"SELECT * FROM credit_tb WHERE CUST_CC_NO='4210653383230786' AND TIMEID between '20181101' and '20181231' order by TIMEID desc;\"\n",
    "spark.sql(q).show()"
   ]
  },
  {
   "cell_type": "code",
   "execution_count": null,
   "metadata": {},
   "outputs": [
    {
     "name": "stdout",
     "output_type": "stream",
     "text": [
      "+--------+\n",
      "|  TIMEID|\n",
      "+--------+\n",
      "|20181201|\n",
      "|20181202|\n",
      "|20181202|\n",
      "|20181203|\n",
      "|20181201|\n",
      "|20181202|\n",
      "|20181201|\n",
      "|20181201|\n",
      "|20181201|\n",
      "|20181203|\n",
      "|20181202|\n",
      "|20181203|\n",
      "|20181202|\n",
      "|20181202|\n",
      "|20181202|\n",
      "|20181201|\n",
      "|20181202|\n",
      "|20181202|\n",
      "|20181203|\n",
      "|20181203|\n",
      "|20181203|\n",
      "|20181202|\n",
      "|20181203|\n",
      "|20181203|\n",
      "|20181203|\n",
      "|20181202|\n",
      "|20181203|\n",
      "|20181201|\n",
      "|20181203|\n",
      "|20181201|\n",
      "+--------+\n",
      "only showing top 30 rows\n",
      "\n"
     ]
    }
   ],
   "source": [
    "spark.sql(\"SELECT TIMEID from credit_tb WHERE TIMEID between '20181201' and '20181203' \").show(30)"
   ]
  },
  {
   "cell_type": "code",
   "execution_count": null,
   "metadata": {},
   "outputs": [],
   "source": [
    "spark.stop()"
   ]
  }
 ],
 "metadata": {
  "kernelspec": {
   "display_name": "env",
   "language": "python",
   "name": "python3"
  },
  "language_info": {
   "codemirror_mode": {
    "name": "ipython",
    "version": 3
   },
   "file_extension": ".py",
   "mimetype": "text/x-python",
   "name": "python",
   "nbconvert_exporter": "python",
   "pygments_lexer": "ipython3",
   "version": "3.9.6"
  },
  "orig_nbformat": 4,
  "vscode": {
   "interpreter": {
    "hash": "9c2c7e4c4afbe7793280b80fef6aaed9c4c09651de3f7af19973b8a5171dd804"
   }
  }
 },
 "nbformat": 4,
 "nbformat_minor": 2
}
