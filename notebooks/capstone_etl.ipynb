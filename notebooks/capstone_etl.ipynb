{
 "cells": [
  {
   "cell_type": "code",
   "execution_count": 1,
   "metadata": {},
   "outputs": [],
   "source": [
    "import os\n",
    "import requests\n",
    "import pandas as pd\n",
    "import mysql.connector as db"
   ]
  },
  {
   "cell_type": "code",
   "execution_count": 2,
   "metadata": {},
   "outputs": [],
   "source": [
    "from pyspark.sql import SparkSession\n",
    "from pyspark.sql.functions import concat, lpad, length, regexp_replace, initcap, lower, col, lit"
   ]
  },
  {
   "cell_type": "code",
   "execution_count": 3,
   "metadata": {},
   "outputs": [
    {
     "name": "stdout",
     "output_type": "stream",
     "text": [
      "23/03/01 11:33:28 WARN Utils: Your hostname, Sules-MacBook-Pro.local resolves to a loopback address: 127.0.0.1; using 192.168.0.17 instead (on interface en0)\n",
      "23/03/01 11:33:28 WARN Utils: Set SPARK_LOCAL_IP if you need to bind to another address\n",
      "23/03/01 11:33:28 WARN NativeCodeLoader: Unable to load native-hadoop library for your platform... using builtin-java classes where applicable\n"
     ]
    },
    {
     "name": "stderr",
     "output_type": "stream",
     "text": [
      "Setting default log level to \"WARN\".\n",
      "To adjust logging level use sc.setLogLevel(newLevel). For SparkR, use setLogLevel(newLevel).\n"
     ]
    },
    {
     "name": "stdout",
     "output_type": "stream",
     "text": [
      "23/03/01 11:33:28 WARN Utils: Service 'SparkUI' could not bind on port 4040. Attempting port 4041.\n"
     ]
    }
   ],
   "source": [
    "spark = SparkSession\\\n",
    "    .builder\\\n",
    "    .appName(\"capstone\")\\\n",
    "    .config(\"spark.jars\",\"/opt/homebrew/Cellar/apache-spark/3.3.1/libexec/jars/mysql-connector-j-8.0.32.jar\")\\\n",
    "    .getOrCreate()\n",
    "\n",
    "    #.config(\"spark.jars\", \"./mysql-connector-j-8.0.32.jar\")\\"
   ]
  },
  {
   "cell_type": "code",
   "execution_count": 4,
   "metadata": {},
   "outputs": [],
   "source": [
    "# authentication for DB connection\n",
    "mysql_pwd = os.environ.get(\"mysql_pwd\")\n",
    "mysql_user = os.environ.get(\"mysql_user\")"
   ]
  },
  {
   "attachments": {},
   "cell_type": "markdown",
   "metadata": {},
   "source": [
    "### Helper functions"
   ]
  },
  {
   "cell_type": "code",
   "execution_count": 5,
   "metadata": {},
   "outputs": [],
   "source": [
    "def get_df_size(sparkdf):\n",
    "    return (sparkdf.count(), len(sparkdf.columns))"
   ]
  },
  {
   "attachments": {},
   "cell_type": "markdown",
   "metadata": {},
   "source": [
    "### 1. Load data sets"
   ]
  },
  {
   "cell_type": "code",
   "execution_count": 6,
   "metadata": {},
   "outputs": [],
   "source": [
    "# JSON files\n",
    "branch = spark.read.json(\"../Credit Card Dataset/cdw_sapp_branch.json\")\n",
    "credit = spark.read.json(\"../Credit Card Dataset/cdw_sapp_credit.json\")\n",
    "customer = spark.read.json(\"../Credit Card Dataset/cdw_sapp_custmer.json\")"
   ]
  },
  {
   "cell_type": "code",
   "execution_count": 7,
   "metadata": {},
   "outputs": [
    {
     "data": {
      "text/plain": [
       "((46694, 9), (115, 8), (952, 14))"
      ]
     },
     "execution_count": 7,
     "metadata": {},
     "output_type": "execute_result"
    }
   ],
   "source": [
    "get_df_size(credit), get_df_size(branch), get_df_size(customer)"
   ]
  },
  {
   "cell_type": "code",
   "execution_count": 8,
   "metadata": {},
   "outputs": [
    {
     "name": "stdout",
     "output_type": "stream",
     "text": [
      "<Response [200]>\n"
     ]
    },
    {
     "name": "stderr",
     "output_type": "stream",
     "text": [
      "/Users/sae/vs_projects/capstone/env/lib/python3.9/site-packages/pyspark/sql/pandas/conversion.py:474: FutureWarning: iteritems is deprecated and will be removed in a future version. Use .items instead.\n",
      "  for column, series in pdf.iteritems():\n",
      "/Users/sae/vs_projects/capstone/env/lib/python3.9/site-packages/pyspark/sql/pandas/conversion.py:486: FutureWarning: iteritems is deprecated and will be removed in a future version. Use .items instead.\n",
      "  for column, series in pdf.iteritems():\n"
     ]
    }
   ],
   "source": [
    "# Loan application API\n",
    "# note add try except for accessing the api\n",
    "url = \"https://raw.githubusercontent.com/platformps/LoanDataset/main/loan_data.json\"\n",
    "response = requests.get(url)\n",
    "print(response)\n",
    "pandas_df = pd.DataFrame(response.json())\n",
    "loan = spark.createDataFrame(pandas_df)"
   ]
  },
  {
   "cell_type": "code",
   "execution_count": 9,
   "metadata": {},
   "outputs": [
    {
     "data": {
      "text/plain": [
       "(511, 10)"
      ]
     },
     "execution_count": 9,
     "metadata": {},
     "output_type": "execute_result"
    }
   ],
   "source": [
    "get_df_size(loan)"
   ]
  },
  {
   "attachments": {},
   "cell_type": "markdown",
   "metadata": {},
   "source": [
    "\n",
    "### 2. Transform data according to the specifications at [Mapping document](https://docs.google.com/spreadsheets/d/1t8UxBrUV6dxx0pM1VIIGZpSf4IKbzjdJ/edit#gid=1823293337)"
   ]
  },
  {
   "cell_type": "code",
   "execution_count": 10,
   "metadata": {},
   "outputs": [],
   "source": [
    "table_names = {'credit_transformed':'CDW_SAPP_CREDIT_CARD',\n",
    "               'branch_transformed':'CDW_SAPP_BRANCH',\n",
    "               'customer_transformed':'CDW_SAPP_CUSTOMER',\n",
    "               'loan_transformed':'CDW_SAPP_loan_application'}\n",
    "# Mapping dictionaries:\n",
    "# tuple: (old_col, new_col, type)\n",
    "column_map = {'credit':[('CREDIT_CARD_NO','CUST_CC_NO','string'),\n",
    "                     #(['DAY','MONTH','YEAR'],'TIMEID','string'),\n",
    "                     ('CUST_SSN','CUST_SSN','integer'),\n",
    "                     ('BRANCH_CODE','BRANCH_CODE','integer'),\n",
    "                     ('TRANSACTION_TYPE','TRANSACTION_TYPE','string'),\n",
    "                     ('TRANSACTION_VALUE','TRANSACTION_VALUE','float'),\n",
    "                     ('TRANSACTION_ID','TRANSACTION_ID','integer')],\n",
    "           'branch':[('BRANCH_CODE','BRANCH_CODE','integer'),\n",
    "                     ('BRANCH_NAME','BRANCH_NAME','string'),\n",
    "                     ('BRANCH_STREET','BRANCH_STREET','string'),\n",
    "                     ('BRANCH_CITY','BRANCH_CITY','string'),\n",
    "                     ('BRANCH_STATE','BRANCH_STATE','string'),\n",
    "                     ('BRANCH_ZIP','BRANCH_ZIP','integer'),\n",
    "                     ('BRANCH_PHONE','BRANCH_PHONE','string'),\n",
    "                     ('LAST_UPDATED','LAST_UPDATED','timestamp')],\n",
    "           'customer':[('SSN','SSN','integer'),\n",
    "                       ('FIRST_NAME','FIRST_NAME','string'),\n",
    "                       ('MIDDLE_NAME','MIDDLE_NAME','string'),\n",
    "                       ('LAST_NAME','LAST_NAME','string'),\n",
    "                       ('CREDIT_CARD_NO','CREDIT_CARD_NO','string'),\n",
    "                       #(['STREET_NAME','APT_NO'],'FULL_STREET_ADDRESS','string'),\n",
    "                       ('CUST_CITY','CUST_CITY','string'),\n",
    "                       ('CUST_STATE','CUST_STATE','string'),\n",
    "                       ('CUST_COUNTRY','CUST_COUNTRY','string'),\n",
    "                       ('CUST_ZIP','CUST_ZIP','integer'),\n",
    "                       ('CUST_PHONE','CUST_PHONE','string'),\n",
    "                       ('CUST_EMAIL','CUST_EMAIL','string'),\n",
    "                       ('LAST_UPDATED','LAST_UPDATED','timestamp')]}"
   ]
  },
  {
   "cell_type": "code",
   "execution_count": 11,
   "metadata": {},
   "outputs": [],
   "source": [
    "def transform(df, data_name):\n",
    "    map_dict = column_map[data_name]\n",
    "    print(map_dict)\n",
    "    #general type casting\n",
    "    for tup in map_dict:\n",
    "        df = df.withColumn(tup[1],df[tup[0]].cast(tup[2]))\n",
    "\n",
    "    # special instructions for dataframe transformations\n",
    "    if data_name == 'credit':\n",
    "        df = df.withColumns({'MONTH': lpad(df['MONTH'],2,'0'),\n",
    "                                    'DAY':lpad(df['DAY'],2,'0')})\n",
    "        \n",
    "        df = df.withColumns({'TIMEID':concat(\"YEAR\", \"MONTH\", \"DAY\")})\n",
    "        # drop columns:\n",
    "        df = df.drop(\"YEAR\", \"MONTH\", \"DAY\",\"CREDIT_CARD_NO\")\n",
    "        df = df.select('CUST_CC_NO', 'TIMEID', 'CUST_SSN', 'BRANCH_CODE', \n",
    "                       'TRANSACTION_TYPE', 'TRANSACTION_VALUE', 'TRANSACTION_ID')\n",
    "\n",
    "    elif data_name == 'branch':\n",
    "        # check for null zip codes:\n",
    "        if df.filter(df['BRANCH_ZIP'].isNull()).collect():\n",
    "            df = df.fillna(value={'BRANCH_ZIP':99999})\n",
    "        # format phone_numbers:\n",
    "        df = df.withColumn('BRANCH_PHONE',\n",
    "                            regexp_replace('BRANCH_PHONE', r'(\\d{3})(\\d{3})(\\d{4})',\"($1)$2-$3\"))\n",
    "        df = df.select('BRANCH_CODE','BRANCH_NAME','BRANCH_STREET','BRANCH_CITY',\n",
    "                       'BRANCH_STATE','BRANCH_ZIP', 'BRANCH_PHONE', 'LAST_UPDATED')\n",
    "        \n",
    "    elif data_name == 'customer':\n",
    "        df = df.withColumns({'FIRST_NAME': initcap('FIRST_NAME'),\n",
    "                                                'MIDDLE_NAME': lower('MIDDLE_NAME'),\n",
    "                                                'LAST_NAME': initcap('LAST_NAME')})\n",
    "        df = df.withColumn('FULL_STREET_ADDRESS', concat(col('STREET_NAME'),lit(', '), col('APT_NO')))\n",
    "        df = df.withColumn('CUST_PHONE',\n",
    "                                            regexp_replace('CUST_PHONE', r'(\\d{3})(\\d{4})',\"(111)$1-$2\"))\n",
    "        df = df.drop(\"STREET_NAME\",\"APT_NO\")\n",
    "        #reorder columns:\n",
    "        df = df.select('SSN','FIRST_NAME', 'MIDDLE_NAME', 'LAST_NAME', \n",
    "                       'CREDIT_CARD_NO', 'FULL_STREET_ADDRESS', 'CUST_CITY',\n",
    "                        'CUST_STATE', 'CUST_COUNTRY', 'CUST_ZIP', 'CUST_PHONE', \n",
    "                        'CUST_EMAIL', 'LAST_UPDATED')\n",
    "\n",
    "    return df"
   ]
  },
  {
   "cell_type": "code",
   "execution_count": 12,
   "metadata": {},
   "outputs": [
    {
     "name": "stdout",
     "output_type": "stream",
     "text": [
      "[('SSN', 'SSN', 'integer'), ('FIRST_NAME', 'FIRST_NAME', 'string'), ('MIDDLE_NAME', 'MIDDLE_NAME', 'string'), ('LAST_NAME', 'LAST_NAME', 'string'), ('CREDIT_CARD_NO', 'CREDIT_CARD_NO', 'string'), ('CUST_CITY', 'CUST_CITY', 'string'), ('CUST_STATE', 'CUST_STATE', 'string'), ('CUST_COUNTRY', 'CUST_COUNTRY', 'string'), ('CUST_ZIP', 'CUST_ZIP', 'integer'), ('CUST_PHONE', 'CUST_PHONE', 'string'), ('CUST_EMAIL', 'CUST_EMAIL', 'string'), ('LAST_UPDATED', 'LAST_UPDATED', 'timestamp')]\n",
      "root\n",
      " |-- SSN: integer (nullable = true)\n",
      " |-- FIRST_NAME: string (nullable = true)\n",
      " |-- MIDDLE_NAME: string (nullable = true)\n",
      " |-- LAST_NAME: string (nullable = true)\n",
      " |-- CREDIT_CARD_NO: string (nullable = true)\n",
      " |-- FULL_STREET_ADDRESS: string (nullable = true)\n",
      " |-- CUST_CITY: string (nullable = true)\n",
      " |-- CUST_STATE: string (nullable = true)\n",
      " |-- CUST_COUNTRY: string (nullable = true)\n",
      " |-- CUST_ZIP: integer (nullable = true)\n",
      " |-- CUST_PHONE: string (nullable = true)\n",
      " |-- CUST_EMAIL: string (nullable = true)\n",
      " |-- LAST_UPDATED: timestamp (nullable = true)\n",
      "\n"
     ]
    }
   ],
   "source": [
    "customer_transformed = transform(customer,'customer')\n",
    "customer_transformed.printSchema()\n"
   ]
  },
  {
   "cell_type": "code",
   "execution_count": 13,
   "metadata": {},
   "outputs": [
    {
     "name": "stdout",
     "output_type": "stream",
     "text": [
      "[('CREDIT_CARD_NO', 'CUST_CC_NO', 'string'), ('CUST_SSN', 'CUST_SSN', 'integer'), ('BRANCH_CODE', 'BRANCH_CODE', 'integer'), ('TRANSACTION_TYPE', 'TRANSACTION_TYPE', 'string'), ('TRANSACTION_VALUE', 'TRANSACTION_VALUE', 'float'), ('TRANSACTION_ID', 'TRANSACTION_ID', 'integer')]\n",
      "root\n",
      " |-- CUST_CC_NO: string (nullable = true)\n",
      " |-- TIMEID: string (nullable = true)\n",
      " |-- CUST_SSN: integer (nullable = true)\n",
      " |-- BRANCH_CODE: integer (nullable = true)\n",
      " |-- TRANSACTION_TYPE: string (nullable = true)\n",
      " |-- TRANSACTION_VALUE: float (nullable = true)\n",
      " |-- TRANSACTION_ID: integer (nullable = true)\n",
      "\n"
     ]
    }
   ],
   "source": [
    "credit_transformed = transform(credit,'credit')\n",
    "credit_transformed.printSchema()\n"
   ]
  },
  {
   "cell_type": "code",
   "execution_count": 14,
   "metadata": {},
   "outputs": [
    {
     "name": "stdout",
     "output_type": "stream",
     "text": [
      "[('BRANCH_CODE', 'BRANCH_CODE', 'integer'), ('BRANCH_NAME', 'BRANCH_NAME', 'string'), ('BRANCH_STREET', 'BRANCH_STREET', 'string'), ('BRANCH_CITY', 'BRANCH_CITY', 'string'), ('BRANCH_STATE', 'BRANCH_STATE', 'string'), ('BRANCH_ZIP', 'BRANCH_ZIP', 'integer'), ('BRANCH_PHONE', 'BRANCH_PHONE', 'string'), ('LAST_UPDATED', 'LAST_UPDATED', 'timestamp')]\n",
      "root\n",
      " |-- BRANCH_CODE: integer (nullable = true)\n",
      " |-- BRANCH_NAME: string (nullable = true)\n",
      " |-- BRANCH_STREET: string (nullable = true)\n",
      " |-- BRANCH_CITY: string (nullable = true)\n",
      " |-- BRANCH_STATE: string (nullable = true)\n",
      " |-- BRANCH_ZIP: integer (nullable = true)\n",
      " |-- BRANCH_PHONE: string (nullable = true)\n",
      " |-- LAST_UPDATED: timestamp (nullable = true)\n",
      "\n"
     ]
    }
   ],
   "source": [
    "branch_transformed = transform(branch,'branch')\n",
    "branch_transformed.printSchema()"
   ]
  },
  {
   "cell_type": "code",
   "execution_count": 15,
   "metadata": {},
   "outputs": [],
   "source": [
    "loan_transformed = loan"
   ]
  },
  {
   "attachments": {},
   "cell_type": "markdown",
   "metadata": {},
   "source": [
    "### 3. Upload data to the mysql database:\n",
    "*  Create DB through mysql.connector\n",
    "*  Upload spark dataframes to the tables"
   ]
  },
  {
   "cell_type": "code",
   "execution_count": 16,
   "metadata": {},
   "outputs": [],
   "source": [
    "# Create a database called: creditcard_capstone\n",
    "\n",
    "mysql = db.connect(user=f\"{mysql_user}\", password=f\"{mysql_pwd}\")\n",
    "cursor =mysql.cursor()"
   ]
  },
  {
   "cell_type": "code",
   "execution_count": null,
   "metadata": {},
   "outputs": [],
   "source": [
    "cursor.execute(\"CREATE DATABASE creditcard_capstone;\")\n",
    "cursor.execute(\"USE creditcard_capstone;\")\n"
   ]
  },
  {
   "cell_type": "code",
   "execution_count": 19,
   "metadata": {},
   "outputs": [],
   "source": [
    "def check_database():\n",
    "    # Create a database called \"creditcard_capstone\" if does not exist\n",
    "    mysql = db.connect(user=\"root\", password=mysql_pwd)\n",
    "    cursor =mysql.cursor()\n",
    "    cursor.execute(\"SHOW DATABASES;\")\n",
    "    dbs = cursor.fetchall()\n",
    "    dbs_list = [x[0] for x in dbs]\n",
    "    if 'creditcard_capstone' not in dbs_list:\n",
    "        cursor.execute(\"CREATE DATABASE creditcard_capstone;\")\n",
    "        print(\"Created the database creditcard_capstone.\")\n",
    "    else:\n",
    "        print(\"Database exist, the tables will be overwritten.\")"
   ]
  },
  {
   "cell_type": "code",
   "execution_count": 20,
   "metadata": {},
   "outputs": [
    {
     "name": "stdout",
     "output_type": "stream",
     "text": [
      "Database exist, the tables will be overwritten.\n"
     ]
    }
   ],
   "source": [
    "check_database()"
   ]
  },
  {
   "cell_type": "code",
   "execution_count": 22,
   "metadata": {},
   "outputs": [],
   "source": [
    "column_types_mysql = {\n",
    "    'customer_transformed':\\\n",
    "        \"SSN INT, \"\\\n",
    "        \"FIRST_NAME VARCHAR(50), \"\\\n",
    "        \"MIDDLE_NAME VARCHAR(50), \"\\\n",
    "        \"LAST_NAME VARCHAR(50), \"\\\n",
    "        \"CREDIT_CARD_NO VARCHAR(16), \"\\\n",
    "        \"FULL_STREET_ADDRESS VARCHAR(100), \"\\\n",
    "        \"CUST_CITY VARCHAR(50), \"\\\n",
    "        \"CUST_STATE VARCHAR(10), \"\\\n",
    "        \"CUST_COUNTRY VARCHAR(50), \"\\\n",
    "        \"CUST_ZIP INT, \"\\\n",
    "        \"CUST_PHONE VARCHAR(50), \"\\\n",
    "        \"CUST_EMAIL VARCHAR(100), \"\\\n",
    "        \"LAST_UPDATED TIMESTAMP\",\\\n",
    "    'credit_transformed':\\\n",
    "        \"CUST_CC_NO VARCHAR(16), \"\\\n",
    "        \"TIMEID VARCHAR(10), \"\\\n",
    "        \"CUST_SSN INT, \"\\\n",
    "        \"BRANCH_CODE INT, \"\\\n",
    "        \"TRANSACTION_TYPE VARCHAR(50), \"\\\n",
    "        \"TRANSACTION_VALUE DOUBLE, \"\\\n",
    "        \"TRANSACTION_ID INT\",\\\n",
    "    'branch_transformed':\n",
    "        \"BRANCH_CODE INT, \"\\\n",
    "        \"BRANCH_NAME VARCHAR(50), \"\\\n",
    "        \"BRANCH_STREET VARCHAR(100), \"\\\n",
    "        \"BRANCH_CITY VARCHAR(50), \"\\\n",
    "        \"BRANCH_STATE VARCHAR(10), \"\\\n",
    "        \"BRANCH_ZIP INT, \"\\\n",
    "        \"BRANCH_PHONE VARCHAR(50), \"\\\n",
    "        \"LAST_UPDATED TIMESTAMP\",\\\n",
    "    'loan_transformed':\\\n",
    "        'Application_ID VARCHAR(20),'\\\n",
    "        'Gender VARCHAR(20),'\\\n",
    "        'Married VARCHAR(20),'\\\n",
    "        'Dependents VARCHAR(20),'\\\n",
    "        'Education VARCHAR(20),'\\\n",
    "        'Self_Employed VARCHAR(20),'\\\n",
    "        'Credit_History INT, '\\\n",
    "        'Property_Area VARCHAR(20),'\\\n",
    "        'Income VARCHAR(20),'\\\n",
    "        'Application_Status VARCHAR(20)'\\\n",
    "        }"
   ]
  },
  {
   "cell_type": "code",
   "execution_count": null,
   "metadata": {},
   "outputs": [
    {
     "data": {
      "text/plain": [
       "{'customer_transformed': 'SSN INT, FIRST_NAME VARCHAR(50), MIDDLE_NAME VARCHAR(50), LAST_NAME VARCHAR(50), CREDIT_CARD_NO VARCHAR(16), FULL_STREET_ADDRESS VARCHAR(100), CUST_CITY VARCHAR(50), CUST_STATE VARCHAR(10), CUST_COUNTRY VARCHAR(50), CUST_ZIP INT, CUST_PHONE VARCHAR(50), CUST_EMAIL VARCHAR(100), LAST_UPDATED TIMESTAMP',\n",
       " 'credit_transformed': 'CUST_CC_NO VARCHAR(16), TIMEID VARCHAR(10), CUST_SSN INT, BRANCH_CODE INT, TRANSACTION_TYPE VARCHAR(50), TRANSACTION_VALUE DOUBLE, TRANSACTION_ID INT',\n",
       " 'branch_transformed': 'BRANCH_CODE INT, BRANCH_NAME VARCHAR(50), BRANCH_STREET VARCHAR(100), BRANCH_CITY VARCHAR(50), BRANCH_STATE VARCHAR(10), BRANCH_ZIP INT, BRANCH_PHONE VARCHAR(50), LAST_UPDATED TIMESTAMP',\n",
       " 'loan_transformed': 'Application_ID VARCHAR(20),Gender VARCHAR(20),Married VARCHAR(20),Dependents VARCHAR(20),Education VARCHAR(20),Self_Employed VARCHAR(20),Credit_History INT, Property_Area VARCHAR(20),Income VARCHAR(20),Application_Status VARCHAR(20)'}"
      ]
     },
     "execution_count": 23,
     "metadata": {},
     "output_type": "execute_result"
    }
   ],
   "source": [
    "column_types_mysql"
   ]
  },
  {
   "cell_type": "code",
   "execution_count": 23,
   "metadata": {},
   "outputs": [
    {
     "name": "stdout",
     "output_type": "stream",
     "text": [
      "Uploaded credit_transformed to CDW_SAPP_CREDIT_CARD\n"
     ]
    },
    {
     "name": "stderr",
     "output_type": "stream",
     "text": [
      "                                                                                \r"
     ]
    },
    {
     "name": "stdout",
     "output_type": "stream",
     "text": [
      "Uploaded branch_transformed to CDW_SAPP_BRANCH\n",
      "Uploaded customer_transformed to CDW_SAPP_CUSTOMER\n",
      "Uploaded loan_transformed to CDW_SAPP_loan_application\n"
     ]
    }
   ],
   "source": [
    "# write df to tables (table_names dict has the names)\n",
    "for dfname, tab in table_names.items():\n",
    "  print(f'Uploaded {dfname} to {tab}')\n",
    "  eval(dfname).write.format(\"jdbc\") \\\n",
    "    .mode(\"overwrite\") \\\n",
    "    .option(\"url\", \"jdbc:mysql://localhost:3306/creditcard_capstone\") \\\n",
    "    .option(\"dbtable\", \"creditcard_capstone.\"+tab) \\\n",
    "    .option(\"user\", mysql_user) \\\n",
    "    .option(\"driver\", \"com.mysql.cj.jdbc.Driver\")\\\n",
    "    .option(\"createTableColumnTypes\", column_types_mysql[dfname])\\\n",
    "    .option(\"password\", mysql_pwd).save()"
   ]
  },
  {
   "cell_type": "code",
   "execution_count": null,
   "metadata": {},
   "outputs": [],
   "source": [
    "spark.stop()"
   ]
  },
  {
   "cell_type": "markdown",
   "metadata": {},
   "source": [
    "### This completes the extraction, transformation and loading of the data to the database"
   ]
  }
 ],
 "metadata": {
  "kernelspec": {
   "display_name": "env",
   "language": "python",
   "name": "python3"
  },
  "language_info": {
   "codemirror_mode": {
    "name": "ipython",
    "version": 3
   },
   "file_extension": ".py",
   "mimetype": "text/x-python",
   "name": "python",
   "nbconvert_exporter": "python",
   "pygments_lexer": "ipython3",
   "version": "3.9.6"
  },
  "orig_nbformat": 4,
  "vscode": {
   "interpreter": {
    "hash": "9c2c7e4c4afbe7793280b80fef6aaed9c4c09651de3f7af19973b8a5171dd804"
   }
  }
 },
 "nbformat": 4,
 "nbformat_minor": 2
}
